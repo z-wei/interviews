{
 "cells": [
  {
   "cell_type": "markdown",
   "metadata": {},
   "source": [
    "# SUMMARY\n",
    "\n",
    "1. It seems that the query with SQLite does not have the row_number() function. I'm going to test the postgresql query on sql fiddle instead. A place where I can test postgresql code. \n",
    "\n",
    "\n",
    "---"
   ]
  },
  {
   "cell_type": "code",
   "execution_count": 2,
   "metadata": {},
   "outputs": [],
   "source": [
    "import pandas as pd\n",
    "import sqlite3\n",
    "from pandas.io import sql"
   ]
  },
  {
   "cell_type": "code",
   "execution_count": 10,
   "metadata": {},
   "outputs": [
    {
     "data": {
      "text/html": [
       "<div>\n",
       "<style scoped>\n",
       "    .dataframe tbody tr th:only-of-type {\n",
       "        vertical-align: middle;\n",
       "    }\n",
       "\n",
       "    .dataframe tbody tr th {\n",
       "        vertical-align: top;\n",
       "    }\n",
       "\n",
       "    .dataframe thead th {\n",
       "        text-align: right;\n",
       "    }\n",
       "</style>\n",
       "<table border=\"1\" class=\"dataframe\">\n",
       "  <thead>\n",
       "    <tr style=\"text-align: right;\">\n",
       "      <th></th>\n",
       "      <th>sender</th>\n",
       "      <th>recipient</th>\n",
       "      <th>date</th>\n",
       "      <th>amount</th>\n",
       "    </tr>\n",
       "  </thead>\n",
       "  <tbody>\n",
       "    <tr>\n",
       "      <th>0</th>\n",
       "      <td>Smith</td>\n",
       "      <td>Williams</td>\n",
       "      <td>2000-01-01</td>\n",
       "      <td>200</td>\n",
       "    </tr>\n",
       "    <tr>\n",
       "      <th>1</th>\n",
       "      <td>Smith</td>\n",
       "      <td>Taylor</td>\n",
       "      <td>2002-09-27</td>\n",
       "      <td>1024</td>\n",
       "    </tr>\n",
       "    <tr>\n",
       "      <th>2</th>\n",
       "      <td>Smith</td>\n",
       "      <td>Johnson</td>\n",
       "      <td>2005-06-26</td>\n",
       "      <td>512</td>\n",
       "    </tr>\n",
       "    <tr>\n",
       "      <th>3</th>\n",
       "      <td>Williams</td>\n",
       "      <td>Johnson</td>\n",
       "      <td>2010-12-17</td>\n",
       "      <td>100</td>\n",
       "    </tr>\n",
       "    <tr>\n",
       "      <th>4</th>\n",
       "      <td>Williams</td>\n",
       "      <td>Johnson</td>\n",
       "      <td>2004-03-22</td>\n",
       "      <td>10</td>\n",
       "    </tr>\n",
       "    <tr>\n",
       "      <th>5</th>\n",
       "      <td>Brown</td>\n",
       "      <td>Johnson</td>\n",
       "      <td>2013-03-20</td>\n",
       "      <td>500</td>\n",
       "    </tr>\n",
       "    <tr>\n",
       "      <th>6</th>\n",
       "      <td>Johnson</td>\n",
       "      <td>Williams</td>\n",
       "      <td>2007-06-02</td>\n",
       "      <td>400</td>\n",
       "    </tr>\n",
       "    <tr>\n",
       "      <th>7</th>\n",
       "      <td>Johnson</td>\n",
       "      <td>Williams</td>\n",
       "      <td>2005-06-26</td>\n",
       "      <td>400</td>\n",
       "    </tr>\n",
       "    <tr>\n",
       "      <th>8</th>\n",
       "      <td>Johnson</td>\n",
       "      <td>Williams</td>\n",
       "      <td>2005-06-26</td>\n",
       "      <td>200</td>\n",
       "    </tr>\n",
       "  </tbody>\n",
       "</table>\n",
       "</div>"
      ],
      "text/plain": [
       "     sender recipient        date  amount\n",
       "0     Smith  Williams  2000-01-01     200\n",
       "1     Smith    Taylor  2002-09-27    1024\n",
       "2     Smith   Johnson  2005-06-26     512\n",
       "3  Williams   Johnson  2010-12-17     100\n",
       "4  Williams   Johnson  2004-03-22      10\n",
       "5     Brown   Johnson  2013-03-20     500\n",
       "6   Johnson  Williams  2007-06-02     400\n",
       "7   Johnson  Williams  2005-06-26     400\n",
       "8   Johnson  Williams  2005-06-26     200"
      ]
     },
     "execution_count": 10,
     "metadata": {},
     "output_type": "execute_result"
    }
   ],
   "source": [
    "df = pd.read_csv('../datasets/csv/sql_codility_qn3_II.csv')\n",
    "df = df.iloc[:9,:4]\n",
    "df"
   ]
  },
  {
   "cell_type": "code",
   "execution_count": 11,
   "metadata": {},
   "outputs": [],
   "source": [
    "# yes, this creates a file in my local drive.\n",
    "db_connection = sqlite3.connect('../datasets/sql/property_guru_test.db.sqlite')"
   ]
  },
  {
   "cell_type": "code",
   "execution_count": 12,
   "metadata": {},
   "outputs": [],
   "source": [
    "# this code just wrote the pandas df into sql form\n",
    "df.to_sql(name = 'PG', con = db_connection, if_exists = 'replace', index = False)"
   ]
  },
  {
   "cell_type": "markdown",
   "metadata": {},
   "source": [
    "Test query :"
   ]
  },
  {
   "cell_type": "code",
   "execution_count": 14,
   "metadata": {},
   "outputs": [
    {
     "data": {
      "text/html": [
       "<div>\n",
       "<style scoped>\n",
       "    .dataframe tbody tr th:only-of-type {\n",
       "        vertical-align: middle;\n",
       "    }\n",
       "\n",
       "    .dataframe tbody tr th {\n",
       "        vertical-align: top;\n",
       "    }\n",
       "\n",
       "    .dataframe thead th {\n",
       "        text-align: right;\n",
       "    }\n",
       "</style>\n",
       "<table border=\"1\" class=\"dataframe\">\n",
       "  <thead>\n",
       "    <tr style=\"text-align: right;\">\n",
       "      <th></th>\n",
       "      <th>sender</th>\n",
       "    </tr>\n",
       "  </thead>\n",
       "  <tbody>\n",
       "    <tr>\n",
       "      <th>0</th>\n",
       "      <td>Smith</td>\n",
       "    </tr>\n",
       "    <tr>\n",
       "      <th>1</th>\n",
       "      <td>Smith</td>\n",
       "    </tr>\n",
       "    <tr>\n",
       "      <th>2</th>\n",
       "      <td>Smith</td>\n",
       "    </tr>\n",
       "    <tr>\n",
       "      <th>3</th>\n",
       "      <td>Williams</td>\n",
       "    </tr>\n",
       "    <tr>\n",
       "      <th>4</th>\n",
       "      <td>Williams</td>\n",
       "    </tr>\n",
       "  </tbody>\n",
       "</table>\n",
       "</div>"
      ],
      "text/plain": [
       "     sender\n",
       "0     Smith\n",
       "1     Smith\n",
       "2     Smith\n",
       "3  Williams\n",
       "4  Williams"
      ]
     },
     "execution_count": 14,
     "metadata": {},
     "output_type": "execute_result"
    }
   ],
   "source": [
    "query = '''\n",
    "SELECT \"sender\" \n",
    "FROM PG -- do you remember the name you gave this file? PG. Refer to the cell above.\n",
    "'''\n",
    "\n",
    "sql.read_sql(query, con = db_connection).head() # this connection is where my file is. "
   ]
  },
  {
   "cell_type": "markdown",
   "metadata": {},
   "source": [
    "Ok, now I got this sql querying thing going. Start learning the query :\n",
    "[The link to the stackoverflow answer for this ](https://stackoverflow.com/questions/42608988/how-to-get-summation-with-count-larger-than-certain-amount)\n",
    "\n",
    "---"
   ]
  },
  {
   "cell_type": "markdown",
   "metadata": {},
   "source": [
    "The answer : but executing this answer does not work. Will have to study it :"
   ]
  },
  {
   "cell_type": "raw",
   "metadata": {},
   "source": [
    "query = '''select recipient as account_name\n",
    "from (\n",
    "  select * \n",
    "    , row_number() over (\n",
    "        partition by recipient\n",
    "        order by amount desc\n",
    "        ) as rn\n",
    "  from transfers\n",
    "  ) as i\n",
    "where rn < 4\n",
    "group by recipient\n",
    "having sum(amount)>=1024 '''"
   ]
  },
  {
   "cell_type": "code",
   "execution_count": 17,
   "metadata": {},
   "outputs": [
    {
     "data": {
      "text/html": [
       "<div>\n",
       "<style scoped>\n",
       "    .dataframe tbody tr th:only-of-type {\n",
       "        vertical-align: middle;\n",
       "    }\n",
       "\n",
       "    .dataframe tbody tr th {\n",
       "        vertical-align: top;\n",
       "    }\n",
       "\n",
       "    .dataframe thead th {\n",
       "        text-align: right;\n",
       "    }\n",
       "</style>\n",
       "<table border=\"1\" class=\"dataframe\">\n",
       "  <thead>\n",
       "    <tr style=\"text-align: right;\">\n",
       "      <th></th>\n",
       "      <th>sender</th>\n",
       "      <th>recipient</th>\n",
       "      <th>date</th>\n",
       "      <th>amount</th>\n",
       "    </tr>\n",
       "  </thead>\n",
       "  <tbody>\n",
       "    <tr>\n",
       "      <th>0</th>\n",
       "      <td>Smith</td>\n",
       "      <td>Williams</td>\n",
       "      <td>2000-01-01</td>\n",
       "      <td>200</td>\n",
       "    </tr>\n",
       "    <tr>\n",
       "      <th>1</th>\n",
       "      <td>Smith</td>\n",
       "      <td>Taylor</td>\n",
       "      <td>2002-09-27</td>\n",
       "      <td>1024</td>\n",
       "    </tr>\n",
       "    <tr>\n",
       "      <th>2</th>\n",
       "      <td>Smith</td>\n",
       "      <td>Johnson</td>\n",
       "      <td>2005-06-26</td>\n",
       "      <td>512</td>\n",
       "    </tr>\n",
       "    <tr>\n",
       "      <th>3</th>\n",
       "      <td>Williams</td>\n",
       "      <td>Johnson</td>\n",
       "      <td>2010-12-17</td>\n",
       "      <td>100</td>\n",
       "    </tr>\n",
       "    <tr>\n",
       "      <th>4</th>\n",
       "      <td>Williams</td>\n",
       "      <td>Johnson</td>\n",
       "      <td>2004-03-22</td>\n",
       "      <td>10</td>\n",
       "    </tr>\n",
       "  </tbody>\n",
       "</table>\n",
       "</div>"
      ],
      "text/plain": [
       "     sender recipient        date  amount\n",
       "0     Smith  Williams  2000-01-01     200\n",
       "1     Smith    Taylor  2002-09-27    1024\n",
       "2     Smith   Johnson  2005-06-26     512\n",
       "3  Williams   Johnson  2010-12-17     100\n",
       "4  Williams   Johnson  2004-03-22      10"
      ]
     },
     "execution_count": 17,
     "metadata": {},
     "output_type": "execute_result"
    }
   ],
   "source": [
    "query = '''\n",
    "SELECT *\n",
    "FROM PG -- do you remember the name you gave this file? PG. Refer to the cell above.\n",
    "'''\n",
    "\n",
    "sql.read_sql(query, con = db_connection).head() # this connection is where my file is. "
   ]
  },
  {
   "cell_type": "markdown",
   "metadata": {},
   "source": [
    "What does PARTITION BY do in sql? : "
   ]
  },
  {
   "cell_type": "markdown",
   "metadata": {},
   "source": [
    "1. A GROUP BY normally reduces the number of rows returning by aggregating the values of the rows. A PARTITION BY on the other hand does not affect the number of rows returned. "
   ]
  },
  {
   "cell_type": "markdown",
   "metadata": {},
   "source": [
    "What is the ROW NUMBER () window function?"
   ]
  },
  {
   "cell_type": "markdown",
   "metadata": {},
   "source": [
    "QUOTE: The Row_Number function is used to provide consecutive numbering of the rows in the result by the order selected in the OVER clause for each partition specified in the OVER clause. It will assign the value 1 for the first row and increase the number of the subsequent rows."
   ]
  },
  {
   "cell_type": "markdown",
   "metadata": {},
   "source": [
    "STATE:\n",
    "1. To provide numbering of the rows.\n",
    "2. The order of this numbering is done through the OVER clause.\n",
    "3. This numbering is done to each partition specified in the OVER clause.\n",
    "\n",
    "SUMMARY:\n",
    "1. It is a numbering function.\n",
    "2. The numbering is done through the OVER clause.\n",
    "3. There can be partitions in the OVER clause."
   ]
  },
  {
   "cell_type": "markdown",
   "metadata": {},
   "source": [
    "Syntax : \n",
    "\n",
    "ROW_NUMBER ( )  OVER ( [PARTITION BY value_exp, ... [ n ] ] order_by_clause)"
   ]
  },
  {
   "cell_type": "markdown",
   "metadata": {},
   "source": [
    "QUOTE : The ROW_NUMBER function enumerates the rows in the sort order defined in the over clause.\n",
    "\n",
    "---"
   ]
  },
  {
   "cell_type": "markdown",
   "metadata": {},
   "source": [
    "__ROW_NUMBER() Function without Partition By clause :__"
   ]
  },
  {
   "cell_type": "markdown",
   "metadata": {},
   "source": [
    "Partition by clause is a optional part of Row_Number function and if you don't use it all the records of the result-set will be considered as a part of single record group or a single partition and then ranking functions are applied."
   ]
  },
  {
   "cell_type": "code",
   "execution_count": null,
   "metadata": {},
   "outputs": [],
   "source": [
    "SELECT *, ROW_NUMBER() OVER(ORDER BY EmpName) AS Row_Number  \n",
    "FROM Employee "
   ]
  },
  {
   "cell_type": "markdown",
   "metadata": {},
   "source": [
    "<img src='output_row_number().png' height=\"800\" width=\"600\">"
   ]
  },
  {
   "cell_type": "markdown",
   "metadata": {},
   "source": [
    "__ROW_NUMBER() Function with Partition By clause__"
   ]
  },
  {
   "cell_type": "markdown",
   "metadata": {},
   "source": [
    "QUOTE: When you specify a column or set of columns with PARTITION BY clause then it will divide the result set into record partitions and then finally ranking functions are applied to each record partition separately and the rank will restart from 1 for each record partition separately."
   ]
  },
  {
   "cell_type": "markdown",
   "metadata": {},
   "source": [
    "Summary:\n",
    "1. It's a grouping. A partition is a group. Each group will be enumerated on its own.\n",
    "2. The partition is detected similar in a GROUP BY way where each row may have a category like apple, orange or banana. This column can be called fruits. I can PARTITION BY \"fruits\" and all rows corresponding to apple will be partition 1, other rows corresponding to orange will be partition 2, and the remaining rows that correspond to banana will be partition 3. \n",
    "3. These partitions will be enumerated starting from 1 according to an order specified by the ORDER BY clause, where you can order it according to another column.\n",
    "4. PARTIION BY \"fruits\" ORDER BY \"price\" ASC (this means apple, oranges, and banana rows will be orderd from price lowest to highest and another column will be created that enumerates this organization).\n",
    "5. The entire ROW_NUMBER () clause is like this :\n",
    ">ROW_NUMBER ( ) OVER ( PARTITION BY \"fruits\" ORDER BY \"price\" ASC ) AS \"row_number\"\n",
    "6. CONCLUSION:\n",
    "    * (1) Remember that ROW NUMBER ( ) initiates this function \n",
    "    * (2) OVER states the behavior of the enumeration, what is the main organization that is numbering should take place? what category am I interested in? \n",
    "    * (3) And according to which number valued column do I want to order this organization and ASC or DESC? \n",
    "    * (4) give a number to this new column that enumerates this organization that you need. "
   ]
  },
  {
   "cell_type": "markdown",
   "metadata": {},
   "source": [
    "__testing the ROW_NUMBER () functin on my table__"
   ]
  },
  {
   "cell_type": "code",
   "execution_count": null,
   "metadata": {},
   "outputs": [],
   "source": [
    "SELECT *, ROW_NUMBER() OVER(Partition by EmpName ORDER BY EmpName) AS Row_Number from Employee "
   ]
  },
  {
   "cell_type": "raw",
   "metadata": {},
   "source": [
    "query = '''\n",
    "SELECT *, ROW_NUMBER() OVER(Partition by \"sender\" ORDER BY \"amount\") AS Row_number\n",
    "FROM PG\n",
    "'''\n",
    "\n",
    "sql.read_sql(query, con = db_connection).head()\n",
    "# remember the comma in the SELECT sentence area indicates the selection or creation of another column"
   ]
  },
  {
   "cell_type": "code",
   "execution_count": 21,
   "metadata": {},
   "outputs": [
    {
     "data": {
      "text/html": [
       "<div>\n",
       "<style scoped>\n",
       "    .dataframe tbody tr th:only-of-type {\n",
       "        vertical-align: middle;\n",
       "    }\n",
       "\n",
       "    .dataframe tbody tr th {\n",
       "        vertical-align: top;\n",
       "    }\n",
       "\n",
       "    .dataframe thead th {\n",
       "        text-align: right;\n",
       "    }\n",
       "</style>\n",
       "<table border=\"1\" class=\"dataframe\">\n",
       "  <thead>\n",
       "    <tr style=\"text-align: right;\">\n",
       "      <th></th>\n",
       "      <th>sender</th>\n",
       "      <th>recipient</th>\n",
       "      <th>date</th>\n",
       "      <th>amount</th>\n",
       "    </tr>\n",
       "  </thead>\n",
       "  <tbody>\n",
       "    <tr>\n",
       "      <th>0</th>\n",
       "      <td>Smith</td>\n",
       "      <td>Williams</td>\n",
       "      <td>2000-01-01</td>\n",
       "      <td>200</td>\n",
       "    </tr>\n",
       "    <tr>\n",
       "      <th>1</th>\n",
       "      <td>Smith</td>\n",
       "      <td>Taylor</td>\n",
       "      <td>2002-09-27</td>\n",
       "      <td>1024</td>\n",
       "    </tr>\n",
       "    <tr>\n",
       "      <th>2</th>\n",
       "      <td>Smith</td>\n",
       "      <td>Johnson</td>\n",
       "      <td>2005-06-26</td>\n",
       "      <td>512</td>\n",
       "    </tr>\n",
       "    <tr>\n",
       "      <th>3</th>\n",
       "      <td>Williams</td>\n",
       "      <td>Johnson</td>\n",
       "      <td>2010-12-17</td>\n",
       "      <td>100</td>\n",
       "    </tr>\n",
       "    <tr>\n",
       "      <th>4</th>\n",
       "      <td>Williams</td>\n",
       "      <td>Johnson</td>\n",
       "      <td>2004-03-22</td>\n",
       "      <td>10</td>\n",
       "    </tr>\n",
       "  </tbody>\n",
       "</table>\n",
       "</div>"
      ],
      "text/plain": [
       "     sender recipient        date  amount\n",
       "0     Smith  Williams  2000-01-01     200\n",
       "1     Smith    Taylor  2002-09-27    1024\n",
       "2     Smith   Johnson  2005-06-26     512\n",
       "3  Williams   Johnson  2010-12-17     100\n",
       "4  Williams   Johnson  2004-03-22      10"
      ]
     },
     "execution_count": 21,
     "metadata": {},
     "output_type": "execute_result"
    }
   ],
   "source": [
    "query = '''\n",
    "SELECT *\n",
    "FROM PG\n",
    "'''\n",
    "\n",
    "sql.read_sql(query, con = db_connection).head()\n",
    "# remember the comma in the SELECT sentence area indicates the selection or creation of another column"
   ]
  },
  {
   "cell_type": "markdown",
   "metadata": {},
   "source": [
    "# TO BE CONTINUED \n",
    "https://stackoverflow.com/questions/16847574/how-to-use-row-number-in-sqlite\n",
    "\n",
    "Damn it. This Row function might not work in SQL lite.\n",
    "\n",
    "1. Figure out how to and where else can I test this row function.\n",
    "2. How is postgre and sql lite different. \n",
    "3. Are there other databases where this row_function() not work? hmmm. \n",
    "\n",
    "Shouldn't all sql querying be the same? "
   ]
  },
  {
   "cell_type": "code",
   "execution_count": null,
   "metadata": {},
   "outputs": [],
   "source": []
  }
 ],
 "metadata": {
  "kernelspec": {
   "display_name": "Python 3",
   "language": "python",
   "name": "python3"
  },
  "language_info": {
   "codemirror_mode": {
    "name": "ipython",
    "version": 3
   },
   "file_extension": ".py",
   "mimetype": "text/x-python",
   "name": "python",
   "nbconvert_exporter": "python",
   "pygments_lexer": "ipython3",
   "version": "3.6.6"
  }
 },
 "nbformat": 4,
 "nbformat_minor": 2
}
