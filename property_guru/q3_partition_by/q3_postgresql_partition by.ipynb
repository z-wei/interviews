{
 "cells": [
  {
   "cell_type": "markdown",
   "metadata": {},
   "source": [
    "# Admin"
   ]
  },
  {
   "cell_type": "markdown",
   "metadata": {},
   "source": [
    "[Link to SQL fiddle is here](http://sqlfiddle.com) - The place where you can try out postgresql code\n",
    "\n",
    "[The answer I got from stack overflow from which I am going to dissect in this python notebook](https://stackoverflow.com/questions/42608988/how-to-get-summation-with-count-larger-than-certain-amount)."
   ]
  },
  {
   "cell_type": "markdown",
   "metadata": {},
   "source": [
    "# The question"
   ]
  },
  {
   "cell_type": "markdown",
   "metadata": {},
   "source": [
    "> Given a table transfers with the following structure:"
   ]
  },
  {
   "cell_type": "code",
   "execution_count": null,
   "metadata": {},
   "outputs": [],
   "source": [
    "create table transfers (\n",
    "    sender varchar not null,\n",
    "    recipient varchar not null,\n",
    "    date date not null,\n",
    "    amount integer not null) ;"
   ]
  },
  {
   "cell_type": "markdown",
   "metadata": {},
   "source": [
    "\n",
    "> Write a query in SQL that returns a list of accounts that have received at\n",
    "least 1024 USD in at most three transfers. In other words, an account name\n",
    "is to be listed if there exist some three (or fewer) transfers, with the\n",
    "recipient equal to the account name, such that the sum of the transferred\n",
    "amounts is not less that 1024 USD. Note that there can be more than three\n",
    "transfers to that account, as long as some three or fewer transfers amount\n",
    "to at least 1024 USD. The table should be ordered by name (in ascending\n",
    "order).\n",
    "\n",
    ">The sender and recipient columns contain the names of the\n",
    "corresponding accounts, the date column contains the dates of the\n",
    "transfers, and the amount column contains the transferred amounts\n",
    "expressed in USD. You can assume that the sender value is different from\n",
    "the recipient value in each row."
   ]
  },
  {
   "cell_type": "markdown",
   "metadata": {},
   "source": [
    "<img src='image_answer.png' height=600 width=600"
   ]
  },
  {
   "cell_type": "markdown",
   "metadata": {},
   "source": [
    ">The Johnson account is listed because it has received 1112 USD in the\n",
    "following three transfers: 512 USD + 100 USD + 500 USD = 1112 USD. \n",
    "\n",
    ">The Taylor account has received 1024 USD in just one transfer . The\n",
    "Williams account received 1200 USD in four transfers, but it is not listed\n",
    "because no three transfers to that account total at least 1024 USD.\n",
    "\n",
    ">The name of the column in the rowset doesn't matter."
   ]
  },
  {
   "cell_type": "markdown",
   "metadata": {},
   "source": [
    "# First notes on the question (understanding it)."
   ]
  },
  {
   "cell_type": "markdown",
   "metadata": {},
   "source": [
    "Received at least 1024 USD in at most three transfers :\n",
    "\n",
    "1.  Here you spot the first critera. I want only the list of accounts that amount to x (1024) in __at most__ three transfers.\n",
    "2.  The word \"at most\" is a limitation. By 3 transfers I need an amount of 1024. Not 4 or 5. Thus, intuitively you can see that you need to ORDER the transfer amounts from largest to smallest and take the three largest amounts to see if its more than 1024.   \n",
    "\n",
    "How can I dissect this into a meta-structure way of thinking for future problems?\n",
    "1. I only want accounts that fit into the 1024 criteria with 3 transfers.\n",
    "2. x with 3 transactions.  x with only 2 transaction. x with only 1 transaction.\n",
    "3. For x, a constant numerical value, the less transactions or entry I use to satisfy this constant means that the higher the value the transaction or entry must be. Simple ratio or division mentality. \n",
    "4. But just by reading that sentence you are unsure if it's a bigger amount or a smaller amount you are looking at for each transfer. There isn't a relative.\n",
    "5. Reiteration: \"Received at least 1024 USD in at most three transfers\":\n",
    "    * So if you think about it, it can be one transfer - a super large amount\n",
    "    * two transfers relatively large\n",
    "    * Or 3 transfers just nice.\n",
    "6. There is some freedom of navigation within every limitation. Find that out and work for it.\n",
    "\n",
    "Summary of dissection:\n",
    "1. Ordering my amounts in DESC order largest to smallest will make the most sense. \n",
    "2. If the first largest transaction fits the criteria I can bring back that account name already.\n",
    "3. Same for second, and same for third (where the limitation is).\n",
    "4. Thus ORDER BY DESC and take the __first three accounts__ for judging. If the total of these first three accounts is more than 1024, bring back the account name holder.\n",
    "5. You want to know if an account holder has received more than 1024 in at most three transfers.   \n",
    "\n",
    "Thinking about it, why can't I use the GROUP BY clause?\n",
    "\n",
    "1. Because GROUP BY aggregates whiel PARTITION BY does not. \n",
    "2. GROUP BY aggreates a category and it's associated values into a SUM or COUNT or MAX or MIN this obscures the need to look at each row individually or at least the top 3 rows only to check if the amount if more than 1024.\n",
    "3. GROUP BY takes all rows without discriminating the largest or smallest amount. I do not have the advantage of choosing. \n",
    "4. WITH PARTITION BY I'm still doing a GROUP BY but without aggregating. With this partition I can order each partition from biggest to smallest enumerate them and then if row_number <= 3 is > 1024 being back the account holder name.\n",
    "5. I see it now\n",
    "6. I feel PARTITION BY has not next immediate intuitive action like GROUP BY. GROUP BY intuitively leads to an aggregation if not what's the point of grouping? Just to see the unique values of a column, maybe.\n",
    "7. With partition I have this grouping, no aggregation. I believe it's made for ordering and enumerating then returning the largest 5 amounts or smallest 5 amounts of each partition / group. This is meta at it's best\n",
    "8. Not an aggregate value I'm looking at. It's 3 largest amounts or 3 smallest amount and for each group.\n",
    "9. To do it less simultaneously I can filter out the table to only consist of 1 group then order it and limit the top 3 rows to check. Then I can repeat this filtering and order and limit process for each category. But what if I have 20 categories within that column of interest?\n",
    "10. Therefore the partition process. Scalable and efficient. "
   ]
  },
  {
   "cell_type": "markdown",
   "metadata": {},
   "source": [
    "# Breaking down the code"
   ]
  },
  {
   "cell_type": "markdown",
   "metadata": {},
   "source": [
    "#### INITIAL GLANCE AT THE CODE \n",
    "\n",
    "The complete picture. (1) Creating the table (2) Inserting the values (3) Querying from this table that we have just created."
   ]
  },
  {
   "cell_type": "code",
   "execution_count": null,
   "metadata": {},
   "outputs": [],
   "source": [
    "# this is the creation of a table in SQL\n",
    "# create it, name it, create the columns with its data types\n",
    "\n",
    "create table transfers (\n",
    "      sender varchar(1000) not null,\n",
    "      recipient varchar(1000) not null,\n",
    "      date date not null,\n",
    "      amount integer not null\n",
    "  );\n",
    "\n",
    "# insert the values in order of your columns after you have created the table as above\n",
    "\n",
    "insert into transfers values('Smith','Taylor','2002-09-27','1024')\n",
    ",('Smith','Johnson','2005-06-26','512')\n",
    ",('Williams','Johnson','2010-12-17','100')\n",
    ",('Williams','Johnson','2004-03-22','10')\n",
    ",('Brown','Johnson','2013-03-20','500')\n",
    ",('Johnson','Williams','2007-06-02','400')\n",
    ",('Johnson','Williams','2005-06-26','400')\n",
    ",('Johnson','Williams','2005-06-26','200');\n",
    "\n",
    "# you can start querying from the table you have created - this is the answer\n",
    "\n",
    "select recipient as account_name\n",
    "from (\n",
    "  select * \n",
    "    , row_number() over (\n",
    "        partition by recipient\n",
    "        order by amount desc\n",
    "        ) as rn\n",
    "  from transfers\n",
    "  ) as i\n",
    "where rn < 4\n",
    "group by recipient\n",
    "having sum(amount)>=1024;"
   ]
  },
  {
   "cell_type": "markdown",
   "metadata": {},
   "source": [
    "This querying portion is our focus : "
   ]
  },
  {
   "cell_type": "code",
   "execution_count": null,
   "metadata": {},
   "outputs": [],
   "source": [
    "select recipient as account_name\n",
    "from (\n",
    "  select * \n",
    "    , row_number() over (\n",
    "        partition by recipient\n",
    "        order by amount desc\n",
    "        ) as rn\n",
    "  from transfers\n",
    "  ) as i\n",
    "where rn < 4\n",
    "group by recipient\n",
    "having sum(amount)>=1024;"
   ]
  },
  {
   "cell_type": "markdown",
   "metadata": {},
   "source": [
    "There are 3 components to this query:\n",
    "1. The subquery\n",
    "2. The selection of the columns to return\n",
    "3. The additional\n",
    "\n",
    "---"
   ]
  },
  {
   "cell_type": "markdown",
   "metadata": {},
   "source": [
    "#### DISSECTING THE SUB QUERY"
   ]
  },
  {
   "cell_type": "code",
   "execution_count": null,
   "metadata": {},
   "outputs": [],
   "source": [
    "select * \n",
    "    , row_number() over (\n",
    "        partition by recipient\n",
    "        order by amount desc\n",
    "        ) as rn\n",
    "  from transfers\n",
    "  ) as i"
   ]
  },
  {
   "cell_type": "markdown",
   "metadata": {},
   "source": [
    "Comments / Intro: \n",
    "\n",
    "1. The way they made the question is unnecessarily complicated. It's actually quite simple.\n",
    "2. Bring back the names of the accounts who have received more than 1024 dollars in less than or equal to 3 transfers - This is bascially the question. They asked it in a very convoluted manner.\n",
    "\n",
    "Dissect - I: \n",
    "\n",
    "1. If you have seen this question before you can rely on instinct. But what if you have not seen it before?\n",
    "2. Names are a category. I need to bring back names / categories. \n",
    "3. __These categories have to fit into a criteria.__\n",
    "4. Can I use group by to relate to the criteria? Group by does give me the organization / lens I want to analyze this problem.\n",
    "5. These recipients, their names (categories) are what I want to look at. They are the category of interest to me.\n",
    "6. If I use group by I will get each unique category. Then how about the analysis? I can analyze these categories with respect to the sum, count, max or min or median. But this analysis is not what I'm looking for. This aggregate analysis isn't what I'm looking for.\n",
    "7. My analyzing is to look at __each individual row of each category__ and determing if any 3 rows have an amount more than 1024.\n",
    "8. The main distinctino here is that groupby analysis does not look at each individual row it looks at all the rows within each category __collectively.__ This is the difference.\n",
    "9. I need to look at each individual row of each category and determine if any 3 rows make up an amount more than 2014.\n",
    "\n",
    "Dissect - II:\n",
    "1. I'm analyzing these people (categories) with respect to the amount column (numeric column) but not in an aggregate fashion (non-aggregate) but in an individual fashion (individual).\n",
    "2. Within thse individual search I need the 3 largest amounts. There is an order to it. It makes things easier I can use order by to get what I want.\n",
    "3. But what if what I'm finding is not by order? Then this level of difficult goes up. It becomes like a coding thing where I have to write a code to check each row and other rows if they add up to a certain amount. It becomes a permutation problem. It is complex.\n",
    "4. But for our case its less complex. I just need the three biggest amount values for checking.\n",
    "5. Partion the category, (individual lens in perspective not collective not aggregate), organize these individual rows from largest to smallest check the top 3 rows if they are above 1024\n",
    "\n",
    "Dissect - III:\n",
    "1. How would I do that then? After partitioning and odering how do I check the top 3 rows? I can't do the LIMIT clause its for the whole table while now I have 3 partitions I'm looking at.\n",
    "2. How can I get the top three rows? Is there a function like GET TOP THREE ROWS FOR EACH PARTIION?\n",
    "3. No. But you can enumerate the ordering of each partition and filter out the top 3 rows of each partition by doing WHERE enumeration < 4 or enumeration <=3. Remember that the enumeration takes reference from the ordering of a column.\n",
    "4. ORDER is by the amount column(numeric) there is also an order within or cause that's why we can order it. Amounts are small or large relative to each other. Ordering it from largest to smallest will give us large numbers to small. Enumerating them will give us an index where number 1 is associated to the largest number and 2 the second largest and so on. The meaning comes from the order weather from large to small or from small to large based on a numeric column! - it's always numeric that we are ordering, well it can be alphabetical too.\n",
    "5. Thus which this enumeration I can filter out the top three rows with enumerate <=3. It's like a limit function specific to the partition clause.  There could also be a limit function in the partition clause if they created it or it's just that I do not know about it but this method of doing it does the job.\n",
    "6. Again. (1) Partition (2) Order (3) Associate top 3 with enumeration (4) filter base on enumeration (5) since this filter is already based on the top 3 largest amounts per partition I can use an aggregate function to check if these 3 rows from each partition is biggger than a number.\n",
    "\n",
    "Dissect - IV:\n",
    "1. So in the end I still need the GROUP BY function. It works hand in hand with PARTITION. \n",
    "2. But the fact that thus function was created as :\n",
    "    * __ROW_NUMBER() OVER(PARTITION BY column ORDER BY column DESC) AS enumerate__\n",
    "3. Goes to show that this whole process was created with the end goal of enumerating the rows within categories in an order so as to filter them at the end of it.\n",
    "4. I believe that this creation was specifically for this. If not the syntax would not be this way.\n",
    "5. ROW_NUMBER() : I want to enumerate, for what purposes? \n",
    "    * OVER(): enumerate over something, over a grouping of categories, in such an order then I can filter each category individually based on this enumeration.\n",
    "    * __Enumerate based on an order within each partition, grouping so that I can filter out the smallest values or largest values within each partition.__\n"
   ]
  },
  {
   "cell_type": "markdown",
   "metadata": {},
   "source": [
    "---"
   ]
  },
  {
   "cell_type": "markdown",
   "metadata": {},
   "source": [
    "#### DISSECTING EACH INDIVIDUAL PORTION OF THE CODE"
   ]
  },
  {
   "cell_type": "markdown",
   "metadata": {},
   "source": [
    "Creating an enumerate column according to the order you seek within each partition :"
   ]
  },
  {
   "cell_type": "code",
   "execution_count": null,
   "metadata": {},
   "outputs": [],
   "source": [
    "# this itself is the core of the answer already.\n",
    "# this is the enumeration within my category of interest in an order from largest to smallest.\n",
    "# the enumeration is for all rows. I can see this enumeration by using select *\n",
    "row_number() over(partition by recipient order by amount desc) as enumerate\n",
    "# don't forget that this command returns me a new column of enumeration \n",
    "# i should have an alias for this because its a sub-query"
   ]
  },
  {
   "cell_type": "markdown",
   "metadata": {},
   "source": [
    "Returning a new table that has this enumeration :"
   ]
  },
  {
   "cell_type": "code",
   "execution_count": null,
   "metadata": {},
   "outputs": [],
   "source": [
    "#for example *(all the columns), and the new enumerate column which is within the context of how I organized this query\n",
    "select *, row_number() over(partition by recipient order by amount desc) as enumerate\n",
    "from transfers"
   ]
  },
  {
   "cell_type": "markdown",
   "metadata": {},
   "source": [
    "The reason I need this combined column is because I need the name column for returning, I need the amount column for aggregating after I filter the enumerate column. The date column and the sender column is actaully redundant but select * is just much more efficient rather than me specifying only the columns I need."
   ]
  },
  {
   "cell_type": "markdown",
   "metadata": {},
   "source": [
    "Then begins the filtering process : \n",
    "* I only want the recipient names returned\n",
    "* only want to look at enumerate rows <=3\n",
    "* With this structure I can aggregate these filtered rows to see if their sum is above 1024"
   ]
  },
  {
   "cell_type": "code",
   "execution_count": null,
   "metadata": {},
   "outputs": [],
   "source": [
    "# return recipient names only from this new enumerate table I have created (the sub-query)\n",
    "select recipient\n",
    "from (select *, row_number() over(partition by recipient order by amount desc) as enumerate\n",
    "from transfers) as sub"
   ]
  },
  {
   "cell_type": "markdown",
   "metadata": {},
   "source": [
    "<img src='new_enumerate_column.png'>"
   ]
  },
  {
   "cell_type": "markdown",
   "metadata": {},
   "source": [
    "This is what you get. The creation of a new column that enumerates according to the order of a numeric column you have specified per partition(categorical column). This is as meta as you can get. "
   ]
  },
  {
   "cell_type": "code",
   "execution_count": null,
   "metadata": {},
   "outputs": [],
   "source": [
    "# filtering only the 3 largest amounts for each partition through the enumerate columne\n",
    "select recipient\n",
    "from (select *, row_number() over(partition by recipient order by amount desc) as enumerate\n",
    "        from transfers) as sub\n",
    "where enumerate <=3"
   ]
  },
  {
   "cell_type": "code",
   "execution_count": null,
   "metadata": {},
   "outputs": [],
   "source": [
    "# I need to group by recipients now because I am going to use an aggregat function\n",
    "select recipient\n",
    "from (select *, row_number() over(partition by recipient order by amount desc) as enumerate\n",
    "from transfers) as sub\n",
    "where enumerate <=3\n",
    "group by recipient"
   ]
  },
  {
   "cell_type": "code",
   "execution_count": null,
   "metadata": {},
   "outputs": [],
   "source": [
    "# I use having because I want to filter this group with an aggregation in this case sum()\n",
    "# I did not use the aggregation function at the first select column because I do not want to return the result-\n",
    "# of this aggregation. I only want to return the recipeints that fit this result. I want the aggregation results-\n",
    "# to stay behind the scenes and thus I use the HAVING operator.\n",
    "\n",
    "select recipient\n",
    "from (select *, row_number() over(partition by recipient order by amount desc) as enumerate\n",
    "from transfers) as sub\n",
    "where enumerate <=3\n",
    "group by recipient\n",
    "having sum(amount) >=1024"
   ]
  },
  {
   "cell_type": "markdown",
   "metadata": {},
   "source": [
    "# CONCLUSION"
   ]
  },
  {
   "cell_type": "markdown",
   "metadata": {},
   "source": [
    "What is the 'sensing' in the question for me to use this - I\n",
    "\n",
    "1. I need to do a filter and this filtering isn't at first an aggregate kind of filter.\n",
    "2. An aggregate kind of filter looks at each category and all the rows associated to it as a collective.\n",
    "3. This question only want some of the rows. The rows that matter according to an order. Smallest few rows or largest few rows of course according to a numeric column.\n",
    "4. Thus when you are looking only at a few rows rather than the whole as a collective you have to use this enumeration method which when thought of you have to immediately think:\n",
    "    * row_number() over(partition by categorical_column order by numeric_column which_order) as alias \n",
    "5. Remember that this is the creation of a column nothing more. The enumeration column created will be your tool for filter.\n",
    "6. Use this new column creation with the original table as a sub query:\n",
    "    * select *, row_number() over(partition by categorical_column order by numerical_column which_order) as alias\n",
    "    from table_name\n",
    "7. Now that you have a new table with the enumeration start selecting the columns you want to return. filter off the number of rows you want per category with where alias < x. Then use group by the look at these number of rows collectivly to analyze their aggregate with that number of rows chosen by the where clause with the order you gave through the enumeration.\n",
    "\n",
    "What is the 'sensing' in the question for me to use this - II\n",
    "\n",
    "1. You need to look at a few rows only per catgory and not all the rows collectively.\n",
    "2. The question requires and order smallest to largest or largest to smallest that you can order these rows.\n",
    "3. You only want to look at these rows in that order per category.\n",
    "\n",
    "\n",
    "What is the 'sensing' in the question for me to use this - III\n",
    "1. Look only at a few rows, in an order, and pertaining to each category.\n"
   ]
  }
 ],
 "metadata": {
  "kernelspec": {
   "display_name": "Python 3",
   "language": "python",
   "name": "python3"
  },
  "language_info": {
   "codemirror_mode": {
    "name": "ipython",
    "version": 3
   },
   "file_extension": ".py",
   "mimetype": "text/x-python",
   "name": "python",
   "nbconvert_exporter": "python",
   "pygments_lexer": "ipython3",
   "version": "3.6.6"
  }
 },
 "nbformat": 4,
 "nbformat_minor": 2
}
