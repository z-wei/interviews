{
 "cells": [
  {
   "cell_type": "markdown",
   "metadata": {},
   "source": [
    "Given a table events with the following structure:"
   ]
  },
  {
   "cell_type": "code",
   "execution_count": null,
   "metadata": {},
   "outputs": [],
   "source": [
    "create table table_events (\n",
    "sensor_id integer not null,\n",
    "event_type integer not null,\n",
    "value integer not null,\n",
    "time timestamp unique not null\n",
    ");\n",
    "\n",
    "\n",
    "insert into table_events values('2', '2', '5', '2014-02-13 12:42:00'),\n",
    "('2','4','-42','2014-02-13 13:19:57'),\n",
    "('2', '2', '2', '2014-02-13 14:48:30'),\n",
    "('3', '2', '7', '2014-02-13 12:54:39'),\n",
    "('2', '3', '54', '2014-02-13 13:32:36');"
   ]
  },
  {
   "cell_type": "markdown",
   "metadata": {},
   "source": [
    "write an SQL query that, for each sensor and event type (sensor _ id,\n",
    "event _ type), returns the most recent value (in terms of time). The\n",
    "table should be ordered by sensor _ id (in ascending order), event _ type\n",
    "(in ascending order)."
   ]
  },
  {
   "cell_type": "markdown",
   "metadata": {},
   "source": [
    "<img src='table_example.png' height='500' width='500'>"
   ]
  },
  {
   "cell_type": "markdown",
   "metadata": {},
   "source": [
    "<img src='example_answer.png' height='500' width='500'>"
   ]
  },
  {
   "cell_type": "markdown",
   "metadata": {},
   "source": [
    "Assessment - I\n",
    "\n",
    "1. I see it now. This is not as evident as it is. These questions are definitely tough. \n",
    "2. Each sensor_id and event_type are considered one unique sample / event / row. The difference with this question is that you are not familar with handling a uniqueness across 2 columns. You usually deal with only one.\n",
    "3. Look at the return query example: \n",
    "    * sensor_id: 2, event_type: 2 -- this is one unique row\n",
    "    * sensor_id: 2, event_type: 3 -- this is one unique row\n",
    "    * sensor_id: 2, event_type: 4 -- one unique row\n",
    "    * sensor_id: 3, event_type: 2 -- one unique row\n",
    "4. Realize that there are same sensors here in the out put as a return. sensor_id 2 appear 3 times here. But remember the sensor alone is not unique. The sensors paired with the event_type are unique.\n",
    "5. Realize also that event_type 2 appears twice here in the return. But it is paired with another sensor thus making it unique.\n",
    "6. You won't see 2 rows with the same sensor_id and event_type. That is the only thing you have to remember if this 2 column unique aspect is too big at the moment to digest.\n",
    "\n",
    "Assessment - II\n",
    "\n",
    "1. In the given table, there are two rows where the sensor_id and event_type are the same:\n",
    "    * sensor_id: 2, event_type: 2\n",
    "2. Their values are 5 and 2 respective in order of time.\n",
    "3. Now this question is saying that by order of time bring back the most recent value of this category.\n",
    "4. since value 2 is recorded at 14:48:30 and value 5 is recorded at 12:42:00, value is the the value at the most recent time and should be returned for that unique category : sensor_id: 2, event_type: 2\n",
    "\n",
    "\n",
    "Assessment - III\n",
    "\n",
    "1. Why not a group by? Because group by does not allow me to compare within the rows for which one is the latest or earliest. Biggest or Smallest.\n",
    "2. row_number() method does. I can enumerate which one is the biggest to the smallest or vice versa and filter them out according to the row number. That is the beauty of it. "
   ]
  },
  {
   "cell_type": "markdown",
   "metadata": {},
   "source": [
    "[This code from this link here](https://stackoverflow.com/questions/43525349/sql-query-that-returns-the-most-recent-value-in-terms-of-time-for-each-sensor-an)"
   ]
  },
  {
   "cell_type": "code",
   "execution_count": null,
   "metadata": {},
   "outputs": [],
   "source": [
    "SELECT sensor_id, event_type, value \n",
    "FROM (\n",
    "  select sensor_id, event_type, value , \n",
    "         row_number() over (partition by sensor_id, event_type order by time desc) as rn\n",
    "  from events \n",
    ") t\n",
    "where rn = 1\n",
    "order by sensor_id, event_type;"
   ]
  },
  {
   "cell_type": "markdown",
   "metadata": {},
   "source": [
    "This code is right :\n",
    "\n",
    "1. the order by is by deafult in ascending thus you do not need to specify asc next to the column names. But if you needed to order it in a descending order then you would need to specify desc. \n",
    "2. One thing I don't get is why group by does not work for this case. I have to figure it our. I can juse use max time no? Take the max time "
   ]
  },
  {
   "cell_type": "markdown",
   "metadata": {},
   "source": [
    "#### This is my attempt at group by"
   ]
  },
  {
   "cell_type": "code",
   "execution_count": null,
   "metadata": {},
   "outputs": [],
   "source": [
    "select sensor_id, event_type, max(value), max(time)\n",
    "from events\n",
    "group by sensor_id, event_type"
   ]
  },
  {
   "cell_type": "markdown",
   "metadata": {},
   "source": [
    "try - I\n",
    "\n",
    "1. If I use the group by then I have to aggregate time according to max - my rows will be aggregated. I can't get back my value answer without aggregating it too.\n",
    "2. If I aggregate my values then I'm not getting what I want. I want my values based on the order of the time column. \n",
    "3. I think this is the distinction between using the partition method and the group by method. The partition method allows me to order the rows, enumerate it and select the rows I want to select.\n",
    "4. aggregate does not allow me to select. If I want to select row 2 only for all the partitions I can. between row to row 10 I can. Below row 5 I can. But I cannot do so for an aggregate function.\n",
    "5. In an aggregate function I am only thrown back one thing an aggregate. Not specific row I can choose, a range of rows. \n",
    "6. I can aggregate the time column with max but then what happens to my values column? I cannot return it. It has to be aggregated as well becuase it's not within the groupby. The columns within the group by are treated as categories and the other columns if I want them returned have to be aggregated. They have to be.\n",
    "7. I cannot aggregate my values column. This is the contradiction.\n",
    "8. I want to select the latest values based on time.\n",
    "9. The previous q3 I had to select the biggest numbers from the amount column. If the 3 biggest numbers is bigger than 1024 bring back the category. Here one thing differs. If the time is latest only 1 row needed. i.e The biggest number in the context of q3. If this is the biggest bring back not only the category but its value.\n",
    "10. There is an additional column here I am dealing with.\n",
    "11. The previous example, the focus was on a name. I need to know who (the category) has 3 received transactions above this price\n",
    "12. Here I need to know the the category and its value from the latest time.\n",
    "13. Previously I only needed to know the category, here I needed to know the category and its value. \n",
    "14. I can change the question to be which category here has 3 most recent time not exceeding this number of hours of whatever. \n",
    "\n",
    "try - II\n",
    "\n",
    "1. I'm using the order of time to give me back the value that is associated with a category.\n",
    "2. enumerate the time. Filter out the most recent and get its value.\n",
    "3. Do this for each category - partition needed.\n",
    "\n",
    "try - III\n",
    "1. Within each category that is an associated value I need this value to be the one with the latest time.\n",
    "2. (Partition this catogories order by time desc) select * from it  -> the organization is there already.\n",
    "3. From this structure I can bring back the categories and its associated value where enumerate = 1 becuase 1 is the most recent time. \n",
    "\n",
    "try - IV\n",
    "1. If I know that I have to get back a value or a category based on the biggest or smallest or latest from another numeric column or column or time I have to use this.\n",
    "2. Order it based on which row? Biggest based on which row? If I'm looking at a particular column it self without refernce to other columns I can use group by. \n",
    "3. I need to compare within groups, that is the idea. Within each group I want the latest or biggest something. order it then. order it first. then query from thus ordery.\n",
    "\n",
    "try - VI\n",
    "1. select *, row_number() over (partition by categories order by order_colum order) as enumerate\n",
    "2. This enumerate structure will allow you to filter. "
   ]
  },
  {
   "cell_type": "code",
   "execution_count": null,
   "metadata": {},
   "outputs": [],
   "source": []
  },
  {
   "cell_type": "markdown",
   "metadata": {},
   "source": [
    "[Check out this other code from this link here](https://gist.github.com/tacheshun/b464ba7a9d67afefcdc3)"
   ]
  },
  {
   "cell_type": "code",
   "execution_count": null,
   "metadata": {},
   "outputs": [],
   "source": [
    "SELECT events.sensor_id, events.event_type, events.value\n",
    "FROM events\n",
    "JOIN\n",
    "(\n",
    "    SELECT sensor_id, event_type, max(time) as maxTime\n",
    "    FROM events\n",
    "    group by sensor_id, event_type\n",
    ") T\n",
    "on events.sensor_id = events.sensor_id\n",
    "and events.time = T.maxTime\n",
    "ORDER BY events.time DESC;"
   ]
  }
 ],
 "metadata": {
  "kernelspec": {
   "display_name": "Python 3",
   "language": "python",
   "name": "python3"
  },
  "language_info": {
   "codemirror_mode": {
    "name": "ipython",
    "version": 3
   },
   "file_extension": ".py",
   "mimetype": "text/x-python",
   "name": "python",
   "nbconvert_exporter": "python",
   "pygments_lexer": "ipython3",
   "version": "3.6.6"
  }
 },
 "nbformat": 4,
 "nbformat_minor": 2
}
