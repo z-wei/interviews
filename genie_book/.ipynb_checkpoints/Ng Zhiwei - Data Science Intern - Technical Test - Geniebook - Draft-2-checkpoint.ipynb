{
 "cells": [
  {
   "cell_type": "markdown",
   "metadata": {},
   "source": [
    "<img src='geniebook_logo.png'>"
   ]
  },
  {
   "cell_type": "markdown",
   "metadata": {},
   "source": [
    "## Question 1 ##"
   ]
  },
  {
   "cell_type": "markdown",
   "metadata": {},
   "source": [
    "Writing programming interview questions hasn't made me rich. Maybe trading Apple stocks will.\n",
    "Suppose we could access yesterday's stock prices as a list, where:\n",
    "* The indices are the time in minutes past trade opening time, which was 9:30am local time.\n",
    "* The values are the price in dollars of Apple stock at that time.\n",
    "\n",
    "So if the stock cost $500 at 10:30am, stock_prices_yesterday[60] = 500.\n",
    "\n",
    "__Write an efficient function that takes stock_prices_yesterday and returns the best profit I could have made from 1 purchase and 1 sale of 1 Apple stock yesterday.__\n",
    "\n",
    "For example:\n",
    "\n",
    "stock_prices_yesterday = [10, 7, 5, 8, 11, 9]\n",
    "\n",
    "get_max_profit(stock_prices_yesterday) returns 6 (buying for 5 and selling for 11)\n",
    "\n",
    "No \"shorting\"—you must buy before you sell. You may not buy and sell in the same time step (at least 1 minute\n",
    "must pass)."
   ]
  },
  {
   "cell_type": "code",
   "execution_count": 207,
   "metadata": {},
   "outputs": [],
   "source": [
    "import random\n",
    "stockprices = random.sample(range(1,20),10)"
   ]
  },
  {
   "cell_type": "code",
   "execution_count": 208,
   "metadata": {},
   "outputs": [
    {
     "data": {
      "text/plain": [
       "[13, 6, 8, 1, 19, 16, 17, 2, 11, 15]"
      ]
     },
     "execution_count": 208,
     "metadata": {},
     "output_type": "execute_result"
    }
   ],
   "source": [
    "stockprices"
   ]
  },
  {
   "cell_type": "code",
   "execution_count": 209,
   "metadata": {},
   "outputs": [
    {
     "name": "stdout",
     "output_type": "stream",
     "text": [
      "Best profit from range of stock price given is 18 dollars, where max price was 19 and min price was 1\n"
     ]
    }
   ],
   "source": [
    "def best_profit(stock_prices):\n",
    "    minprice = min(stock_prices)\n",
    "    maxprice = max(stock_prices)\n",
    "    best_profit = maxprice - minprice\n",
    "    return print('Best profit from range of stock price given is {} dollars, where max price was {} and min price was {}'.format(best_profit,maxprice,minprice))\n",
    "\n",
    "best_profit(stockprices)"
   ]
  },
  {
   "cell_type": "markdown",
   "metadata": {},
   "source": [
    "## Question 2 ##\n",
    "\n",
    "You have a list of integers, and for each index you want to find the product of every integer except the\n",
    "integer at that index.\n",
    "\n",
    "__Write a function get_products_of_all_ints_except_at_index() that takes a list of integers and returns a list of the products.__\n",
    "\n",
    "For example, given: [1, 7, 3, 4]\n",
    "\n",
    "your function would return: [84, 12, 28, 21] by calculating: [7 * 3 * 4, 1 * 3 * 4, 1 * 7 * 4, 1 * 7 * 3]\n",
    "\n",
    "Do not use division in your solution."
   ]
  },
  {
   "cell_type": "code",
   "execution_count": 186,
   "metadata": {},
   "outputs": [],
   "source": [
    "test_sample = random.sample(range(1,5),3)"
   ]
  },
  {
   "cell_type": "code",
   "execution_count": 187,
   "metadata": {},
   "outputs": [
    {
     "data": {
      "text/plain": [
       "[4, 3, 1]"
      ]
     },
     "execution_count": 187,
     "metadata": {},
     "output_type": "execute_result"
    }
   ],
   "source": [
    "test_sample"
   ]
  },
  {
   "cell_type": "code",
   "execution_count": 188,
   "metadata": {},
   "outputs": [
    {
     "data": {
      "text/plain": [
       "[3, 4, 12]"
      ]
     },
     "execution_count": 188,
     "metadata": {},
     "output_type": "execute_result"
    }
   ],
   "source": [
    "test_sample = np.array(test_sample)\n",
    "[np.prod([i for e1,i  in enumerate(test_sample) if e1 != e2]) for e2, y in enumerate(test_sample)]"
   ]
  },
  {
   "cell_type": "markdown",
   "metadata": {},
   "source": [
    "## Question 3 ##\n",
    "\n",
    "In order to win the prize for most cookies sold, my friend Alice and I are going to merge our Girl Scout\n",
    "Cookies orders and enter as one unit. Each order is represented by an \"order id\" (an integer).\n",
    "We have our lists of orders sorted numerically already, in lists. \n",
    "\n",
    "__Write a function to merge our lists of orders into one sorted list.__\n",
    "\n",
    "For example:\n",
    "* my_list = [3, 4, 6, 10, 11, 15]\n",
    "* alices_list = [1, 5, 8, 12, 14, 19]\n",
    "\n",
    "print (merge_lists(my_list, alices_list)\n",
    "\n",
    "prints [1, 3, 4, 5, 6, 8, 10, 11, 12, 14, 15, 19]"
   ]
  },
  {
   "cell_type": "code",
   "execution_count": 179,
   "metadata": {},
   "outputs": [],
   "source": [
    "l1 = [3, 4, 6, 13, 11, 19]\n",
    "l2 = [1, 5, 8, 12, 14, 15]"
   ]
  },
  {
   "cell_type": "code",
   "execution_count": 184,
   "metadata": {},
   "outputs": [],
   "source": [
    "def merge_list_order(l1,l2):\n",
    "    newlist =[]\n",
    "    for i in range(len(l1)):\n",
    "        newlist.append(l1[i])\n",
    "        newlist.append(l2[i])\n",
    "    return sorted(newlist)"
   ]
  },
  {
   "cell_type": "code",
   "execution_count": 185,
   "metadata": {},
   "outputs": [
    {
     "data": {
      "text/plain": [
       "[1, 3, 4, 5, 6, 8, 11, 12, 13, 14, 15, 19]"
      ]
     },
     "execution_count": 185,
     "metadata": {},
     "output_type": "execute_result"
    }
   ],
   "source": [
    "merge_list_order(l1,l2)"
   ]
  },
  {
   "cell_type": "markdown",
   "metadata": {},
   "source": [
    "## Question 4 ##"
   ]
  },
  {
   "cell_type": "markdown",
   "metadata": {},
   "source": [
    "You've built an inflight entertainment system with on-demand movie streaming.\n",
    "Users on longer flights like to start a second movie right when their first one ends, but they complain that the plane usually lands before they can see the ending. So you're building a feature for choosing two movies whose total runtimes will equal the exact flight length.\n",
    "\n",
    "__Write a function that takes an integer flight_length (in minutes) and a list of integers movie_lengths (in minutes) and returns a boolean indicating whether there are two numbers in movie_lengths whose sum equals flight_length.__\n",
    "\n",
    "When building your function:\n",
    "* Assume your users will watch exactly two movies\n",
    "* Don't make your users watch the same movie twice"
   ]
  },
  {
   "cell_type": "markdown",
   "metadata": {},
   "source": [
    "#### THIS DOES NOT TAKE INTO ACCOUNT DUPLICATE MOVIES"
   ]
  },
  {
   "cell_type": "code",
   "execution_count": 4,
   "metadata": {},
   "outputs": [],
   "source": [
    "movie_lengths = [60,60,70,50,40,80,100,20,50,70]\n",
    "flight_length = 120"
   ]
  },
  {
   "cell_type": "code",
   "execution_count": 2,
   "metadata": {},
   "outputs": [],
   "source": [
    "def two_movies(flight_length, movie_lengths):\n",
    "    for movie in movie_lengths: # check through each movie \n",
    "        complement = flight_length - movie # get its complement\n",
    "        if complement in movie_lengths: # is complement in movie_length?\n",
    "            return True"
   ]
  },
  {
   "cell_type": "code",
   "execution_count": 5,
   "metadata": {},
   "outputs": [
    {
     "data": {
      "text/plain": [
       "True"
      ]
     },
     "execution_count": 5,
     "metadata": {},
     "output_type": "execute_result"
    }
   ],
   "source": [
    "two_movies(flight_length, movie_lengths)"
   ]
  },
  {
   "cell_type": "markdown",
   "metadata": {},
   "source": [
    "#### TAKING INTO ACCOUNT DUPLICATE MOVIES\n",
    ">We do not want the customer to watch the same movie twice so we have to know if there is another movie length (B) that complements movie length (A) to fit into the flight time."
   ]
  },
  {
   "cell_type": "code",
   "execution_count": null,
   "metadata": {},
   "outputs": [],
   "source": [
    "def two_movies(flight_length, movie_lengths):\n",
    "    \n",
    "    # movie lengths we've seen so far\n",
    "    movie_lengths_seen = set()\n",
    "    \n",
    "    # for each movie I'm checking if its complement is in movie_lengths_seen\n",
    "    for movie in movie_lengths:\n",
    "        complement = flight_length - movie\n",
    "        if complement in movie_lengths_seen:\n",
    "            return True\n",
    "        \n",
    "        movie_lengths_seen.add(first_movie_length)\n",
    "\n",
    "    # we never found a match, so return False\n",
    "    return False"
   ]
  },
  {
   "cell_type": "markdown",
   "metadata": {},
   "source": [
    "* The reason this removes the duplicate problem is because the current iteration in the for loop is always verifying with movies that have be iterated before and added to the movie_lengths_seen list.\n",
    "* In other words, the verification process never verifies with the movie length of the current iteration (only previous iterations) and thus no duplicated movie."
   ]
  },
  {
   "cell_type": "markdown",
   "metadata": {},
   "source": [
    "#### BUT WHAT ABOUT KNOWING THE COMPLEMENTS OF EACH MOVIE? \n",
    ">The situation here isn't very realistic. We may get back a True or False if there is a complement movie to match the flight time but what if we want to know which complement movie this is? Is there a way of tracking each movie and its complements?"
   ]
  },
  {
   "cell_type": "markdown",
   "metadata": {},
   "source": [
    "Creating a function first to separate out each movie from the rest :"
   ]
  },
  {
   "cell_type": "code",
   "execution_count": 6,
   "metadata": {},
   "outputs": [],
   "source": [
    "def non_index(movie_lengths):\n",
    "    \n",
    "    '''Returns each movie index as a key and the other movie indexes and length as values.\n",
    "    This removes the duplicate issue.'''\n",
    "    \n",
    "    main_dic = {}\n",
    "    for i1, movie1 in enumerate(movie_lengths):\n",
    "        \n",
    "        # collecting the other movies that do not correspond to the current movie iteration\n",
    "        non_index_dic = {} \n",
    "        for i2, movie2 in enumerate(movie_lengths):\n",
    "            if i1 != i2:\n",
    "                non_index_dic[i2] = movie2\n",
    "                \n",
    "        # once all is collected, append this collection to the main dictionary\n",
    "        main_dic[i1] = non_index_dic\n",
    "    return(main_dic)"
   ]
  },
  {
   "cell_type": "markdown",
   "metadata": {},
   "source": [
    "Testing the function :"
   ]
  },
  {
   "cell_type": "code",
   "execution_count": 52,
   "metadata": {},
   "outputs": [
    {
     "data": {
      "text/plain": [
       "{0: {1: 60, 2: 70, 3: 50, 4: 40, 5: 80, 6: 100, 7: 20, 8: 50, 9: 70},\n",
       " 1: {0: 60, 2: 70, 3: 50, 4: 40, 5: 80, 6: 100, 7: 20, 8: 50, 9: 70},\n",
       " 2: {0: 60, 1: 60, 3: 50, 4: 40, 5: 80, 6: 100, 7: 20, 8: 50, 9: 70},\n",
       " 3: {0: 60, 1: 60, 2: 70, 4: 40, 5: 80, 6: 100, 7: 20, 8: 50, 9: 70},\n",
       " 4: {0: 60, 1: 60, 2: 70, 3: 50, 5: 80, 6: 100, 7: 20, 8: 50, 9: 70},\n",
       " 5: {0: 60, 1: 60, 2: 70, 3: 50, 4: 40, 6: 100, 7: 20, 8: 50, 9: 70},\n",
       " 6: {0: 60, 1: 60, 2: 70, 3: 50, 4: 40, 5: 80, 7: 20, 8: 50, 9: 70},\n",
       " 7: {0: 60, 1: 60, 2: 70, 3: 50, 4: 40, 5: 80, 6: 100, 8: 50, 9: 70},\n",
       " 8: {0: 60, 1: 60, 2: 70, 3: 50, 4: 40, 5: 80, 6: 100, 7: 20, 9: 70},\n",
       " 9: {0: 60, 1: 60, 2: 70, 3: 50, 4: 40, 5: 80, 6: 100, 7: 20, 8: 50}}"
      ]
     },
     "execution_count": 52,
     "metadata": {},
     "output_type": "execute_result"
    }
   ],
   "source": [
    "movie_lengths = [60,60,70,50,40,80,100,20,50,70]\n",
    "non_index(movie_lengths)"
   ]
  },
  {
   "cell_type": "markdown",
   "metadata": {},
   "source": [
    "As you see above, each movie is registered as a key and the corresponding movie indexes and their lengths as values. This filters out each movie out from the list of movie length.\n",
    "\n",
    "---"
   ]
  },
  {
   "cell_type": "markdown",
   "metadata": {},
   "source": [
    "For example, key [0] will return all the other movie lengths except itself."
   ]
  },
  {
   "cell_type": "code",
   "execution_count": 53,
   "metadata": {},
   "outputs": [
    {
     "data": {
      "text/plain": [
       "{1: 60, 2: 70, 3: 50, 4: 40, 5: 80, 6: 100, 7: 20, 8: 50, 9: 70}"
      ]
     },
     "execution_count": 53,
     "metadata": {},
     "output_type": "execute_result"
    }
   ],
   "source": [
    "non_index(movie_lengths)[0]"
   ]
  },
  {
   "cell_type": "markdown",
   "metadata": {},
   "source": [
    "Now, another function that checks for the complement movie and returns the movie and its complements in a dictionary."
   ]
  },
  {
   "cell_type": "code",
   "execution_count": 54,
   "metadata": {},
   "outputs": [],
   "source": [
    "def check_complement(flight_length, movie_lengths):\n",
    "    \n",
    "    # the previous function that returns a dictionary of each movie and other movies in the list\n",
    "    ni = non_index(movie_lengths)\n",
    "    \n",
    "    verified = {}\n",
    "    for i, movie in enumerate(movie_lengths): \n",
    "        complement = flight_length - movie\n",
    "\n",
    "        # for each movie, loop through it's index in non_index dictionary and check for its complements.\n",
    "        # attach each complement into complement_dic\n",
    "        complement_dic = {}\n",
    "        for key,value in ni[i].items(): \n",
    "            if complement == value:\n",
    "                complement_dic[key] = value\n",
    "                \n",
    "        # attach all collected complements in complement_dic into verified dictionary \n",
    "        verified[i] = complement_dic\n",
    "        \n",
    "    return verified"
   ]
  },
  {
   "cell_type": "markdown",
   "metadata": {},
   "source": [
    "Testing the function :"
   ]
  },
  {
   "cell_type": "code",
   "execution_count": 55,
   "metadata": {},
   "outputs": [
    {
     "data": {
      "text/plain": [
       "{0: {1: 60},\n",
       " 1: {0: 60},\n",
       " 2: {3: 50, 8: 50},\n",
       " 3: {2: 70, 9: 70},\n",
       " 4: {5: 80},\n",
       " 5: {4: 40},\n",
       " 6: {7: 20},\n",
       " 7: {6: 100},\n",
       " 8: {2: 70, 9: 70},\n",
       " 9: {3: 50, 8: 50}}"
      ]
     },
     "execution_count": 55,
     "metadata": {},
     "output_type": "execute_result"
    }
   ],
   "source": [
    "movie_lengths = [60,60,70,50,40,80,100,20,50,70]\n",
    "flight_length = 120\n",
    "check_complement(flight_length, movie_lengths)"
   ]
  },
  {
   "cell_type": "markdown",
   "metadata": {},
   "source": [
    "As you can see, each movie has its complement movie index and its movie lengths associated with it.\n",
    "\n",
    "For movie at index 0, its complement is movie index 0 whose movie length is 60mins.\n",
    "For movie at index 2, its complement is movie index 3 at length 50mins and movie index 8 at length 50mins.\n",
    "For movie at index 7, its complement movie is movie index 6 at length 100 mins.\n",
    "\n",
    "Thus just by looking at this dictionary we know all the movies and its associated complements. This is more realistic and useful.\n",
    "\n",
    "---"
   ]
  },
  {
   "cell_type": "markdown",
   "metadata": {},
   "source": [
    "## Question 5\n",
    "\n",
    "You're working with an intern that keeps coming to you with JavaScript code that won't run because the\n",
    "braces, brackets, and parentheses are off. To save you both some time, you decide to write a\n",
    "braces/brackets/parentheses validator.\n",
    "\n",
    "Let's say:\n",
    "* '(', '{', '[' are called \"openers.\"\n",
    "* ')', '}', ']' are called \"closers.\"\n",
    "\n",
    "__Write an efficient function that tells us whether or not an input string's openers and closers are properly nested.__\n",
    "\n",
    "Examples:\n",
    "* \"{ [ ] ( ) }\" should return True\n",
    "* \"{ [ ( ] ) }\" should return False\n",
    "* \"{ [ }\" should return False"
   ]
  },
  {
   "cell_type": "code",
   "execution_count": 10,
   "metadata": {},
   "outputs": [],
   "source": [
    "def is_valid(string):\n",
    "    bracket_map = {\n",
    "        '}': '{',\n",
    "        ']': '[',\n",
    "        ')': '(',\n",
    "    }\n",
    "\n",
    "    validation = []\n",
    "    for char in string:\n",
    "        if char in bracket_map.values():\n",
    "            validation.append(char)\n",
    "        else:\n",
    "            bracket_match = bracket_map.get(char, None)\n",
    "            if bracket_match != validation.pop():\n",
    "                return False\n",
    "\n",
    "    if not validation:\n",
    "        return True\n",
    "\n",
    "    return False"
   ]
  },
  {
   "cell_type": "code",
   "execution_count": 11,
   "metadata": {},
   "outputs": [],
   "source": [
    "test_string1 = '{{[]}}'\n",
    "test_string2 = '{[{]}'\n",
    "test_string3 =  '[[]'"
   ]
  },
  {
   "cell_type": "code",
   "execution_count": 12,
   "metadata": {},
   "outputs": [
    {
     "data": {
      "text/plain": [
       "True"
      ]
     },
     "execution_count": 12,
     "metadata": {},
     "output_type": "execute_result"
    }
   ],
   "source": [
    "is_valid(test_string1)"
   ]
  },
  {
   "cell_type": "code",
   "execution_count": 13,
   "metadata": {},
   "outputs": [
    {
     "data": {
      "text/plain": [
       "False"
      ]
     },
     "execution_count": 13,
     "metadata": {},
     "output_type": "execute_result"
    }
   ],
   "source": [
    "is_valid(test_string2)"
   ]
  },
  {
   "cell_type": "code",
   "execution_count": 14,
   "metadata": {},
   "outputs": [
    {
     "data": {
      "text/plain": [
       "False"
      ]
     },
     "execution_count": 14,
     "metadata": {},
     "output_type": "execute_result"
    }
   ],
   "source": [
    "is_valid(test_string3)"
   ]
  },
  {
   "cell_type": "markdown",
   "metadata": {},
   "source": [
    "Did not find this function to be realistic as in most cases we are testing strings with other letters and symbols too not just brackets."
   ]
  },
  {
   "cell_type": "markdown",
   "metadata": {},
   "source": [
    "__A FUNCTION TO TAKE INTO ACCOUNT LETTERS AND SYMBOLS__"
   ]
  },
  {
   "cell_type": "code",
   "execution_count": 27,
   "metadata": {},
   "outputs": [],
   "source": [
    "def input_string(string):\n",
    "    \n",
    "    '''This function checks for proper reconciliation if you have an open bracket in a string'''\n",
    "    \n",
    "    openers = ['{','[','(']\n",
    "    closers = ['}', ']',')']\n",
    "    \n",
    "    ### IF NO BRACKETS IN STRING, DO NOT EXECUTE ###\n",
    "    \n",
    "    brackets_in_string = []\n",
    "    [brackets_in_string.append(item) for item in openers+closers if item in string]\n",
    "    if len(brackets_in_string) == 0:\n",
    "        return False\n",
    "    \n",
    "    ### EXECUTE ONLY IF A BRACKET EXISTS IN THE STRING ###\n",
    "    \n",
    "    record_opener = [] \n",
    "    reconcile_mapper = {'{':'}', '[':']','(':')'}   \n",
    "    \n",
    "    for item in string:\n",
    "        \n",
    "        if item not in openers + closers:\n",
    "            pass\n",
    "        \n",
    "        if item in openers:\n",
    "            record_opener.append(item)\n",
    "            \n",
    "        elif item in closers:\n",
    "            if len(record_opener) == 0:\n",
    "                return False\n",
    "            for o,c in reconcile_mapper.items():\n",
    "                if item == c:\n",
    "                    item_mapped  = o \n",
    "            if item_mapped == record_opener[-1]:\n",
    "                record_opener.pop()\n",
    "            elif item_mapped != record_opener[-1]:\n",
    "                return False\n",
    "        \n",
    "    if len(record_opener) > 0:\n",
    "        return False\n",
    "    \n",
    "    return True"
   ]
  },
  {
   "cell_type": "code",
   "execution_count": 16,
   "metadata": {},
   "outputs": [
    {
     "data": {
      "text/plain": [
       "True"
      ]
     },
     "execution_count": 16,
     "metadata": {},
     "output_type": "execute_result"
    }
   ],
   "source": [
    "input_string('()')"
   ]
  },
  {
   "cell_type": "code",
   "execution_count": 17,
   "metadata": {},
   "outputs": [
    {
     "data": {
      "text/plain": [
       "False"
      ]
     },
     "execution_count": 17,
     "metadata": {},
     "output_type": "execute_result"
    }
   ],
   "source": [
    "input_string('(]')"
   ]
  },
  {
   "cell_type": "code",
   "execution_count": 18,
   "metadata": {},
   "outputs": [
    {
     "data": {
      "text/plain": [
       "False"
      ]
     },
     "execution_count": 18,
     "metadata": {},
     "output_type": "execute_result"
    }
   ],
   "source": [
    "input_string('[()')"
   ]
  },
  {
   "cell_type": "code",
   "execution_count": 19,
   "metadata": {},
   "outputs": [
    {
     "data": {
      "text/plain": [
       "True"
      ]
     },
     "execution_count": 19,
     "metadata": {},
     "output_type": "execute_result"
    }
   ],
   "source": [
    "input_string(\"(hi there, what's up!)\")"
   ]
  },
  {
   "cell_type": "code",
   "execution_count": 20,
   "metadata": {},
   "outputs": [
    {
     "data": {
      "text/plain": [
       "True"
      ]
     },
     "execution_count": 20,
     "metadata": {},
     "output_type": "execute_result"
    }
   ],
   "source": [
    "input_string(\"The mapping is {'A':'B'}, and the list is ['one', 'two']\")"
   ]
  },
  {
   "cell_type": "code",
   "execution_count": 21,
   "metadata": {},
   "outputs": [
    {
     "data": {
      "text/plain": [
       "False"
      ]
     },
     "execution_count": 21,
     "metadata": {},
     "output_type": "execute_result"
    }
   ],
   "source": [
    "input_string(\"The mapping is {'A':'B'}, and the list is ['one', 'two'] (?\")"
   ]
  },
  {
   "cell_type": "code",
   "execution_count": 25,
   "metadata": {},
   "outputs": [
    {
     "data": {
      "text/plain": [
       "False"
      ]
     },
     "execution_count": 25,
     "metadata": {},
     "output_type": "execute_result"
    }
   ],
   "source": [
    "input_string('yo!')"
   ]
  },
  {
   "cell_type": "code",
   "execution_count": 26,
   "metadata": {},
   "outputs": [
    {
     "data": {
      "text/plain": [
       "False"
      ]
     },
     "execution_count": 26,
     "metadata": {},
     "output_type": "execute_result"
    }
   ],
   "source": [
    "input_string('#')"
   ]
  },
  {
   "cell_type": "markdown",
   "metadata": {},
   "source": [
    "__THE SAME SOLUTION WITH COMMENTS__"
   ]
  },
  {
   "cell_type": "code",
   "execution_count": 24,
   "metadata": {},
   "outputs": [],
   "source": [
    "def input_string(string):\n",
    "    \n",
    "    '''This function checks for proper reconciliation if you have an open bracket in a string'''\n",
    "    \n",
    "    openers = ['{','[','('] # for opener detection\n",
    "    closers = ['}', ']',')'] # for closer detection\n",
    "    \n",
    "    ### IF NO BRACKETS IN STRING, DO NOT EXECUTE ###\n",
    "    \n",
    "    brackets_in_string = []\n",
    "    [brackets_in_string.append(item) for item in openers+closers if item in string]\n",
    "    if len(brackets_in_string) == 0:\n",
    "        return False\n",
    "    \n",
    "    ### EXECUTE ONLY IF A BRACKET EXISTS IN THE STRING ###\n",
    "    \n",
    "    record_opener = [] #for opener recording \n",
    "    reconcile_mapper = {'{':'}', '[':']','(':')'} #mapping closer to opener to reconcile    \n",
    "    \n",
    "    for item in string:\n",
    "        \n",
    "        if item not in openers + closers: #do not operate on anything that is not a bracket\n",
    "            pass\n",
    "        \n",
    "        if item in openers: # track openers \n",
    "            record_opener.append(item)\n",
    "            \n",
    "        elif item in closers: #3\n",
    "            if len(record_opener) == 0: # If you start off a closer - return False \n",
    "                return False\n",
    "            for o,c in reconcile_mapper.items(): #4 mapping closer to opener in dic\n",
    "                if item == c:\n",
    "                    item_mapped  = o \n",
    "            if item_mapped == record_opener[-1]: #if right reconciliation remove the opener from record\n",
    "                record_opener.pop()\n",
    "            elif item_mapped != record_opener[-1]: # if wrong reconciliation - return False\n",
    "                return False\n",
    "        \n",
    "    if len(record_opener) > 0: # At the end of it if there are openers left to be reconciled - return False\n",
    "        return False\n",
    "    \n",
    "    return True # If all conditions above are satisfied - return True"
   ]
  }
 ],
 "metadata": {
  "kernelspec": {
   "display_name": "Python 3",
   "language": "python",
   "name": "python3"
  },
  "language_info": {
   "codemirror_mode": {
    "name": "ipython",
    "version": 3
   },
   "file_extension": ".py",
   "mimetype": "text/x-python",
   "name": "python",
   "nbconvert_exporter": "python",
   "pygments_lexer": "ipython3",
   "version": "3.6.6"
  }
 },
 "nbformat": 4,
 "nbformat_minor": 2
}
