{
 "cells": [
  {
   "cell_type": "markdown",
   "metadata": {},
   "source": [
    "<img src='geniebook_logo.png'>"
   ]
  },
  {
   "cell_type": "markdown",
   "metadata": {},
   "source": [
    "## Q 1 ##"
   ]
  },
  {
   "cell_type": "code",
   "execution_count": 207,
   "metadata": {},
   "outputs": [],
   "source": [
    "import random\n",
    "stockprices = random.sample(range(1,20),10)"
   ]
  },
  {
   "cell_type": "code",
   "execution_count": 208,
   "metadata": {},
   "outputs": [
    {
     "data": {
      "text/plain": [
       "[13, 6, 8, 1, 19, 16, 17, 2, 11, 15]"
      ]
     },
     "execution_count": 208,
     "metadata": {},
     "output_type": "execute_result"
    }
   ],
   "source": [
    "stockprices"
   ]
  },
  {
   "cell_type": "code",
   "execution_count": 209,
   "metadata": {},
   "outputs": [
    {
     "name": "stdout",
     "output_type": "stream",
     "text": [
      "Best profit from range of stock price given is 18 dollars, where max price was 19 and min price was 1\n"
     ]
    }
   ],
   "source": [
    "def best_profit(stock_prices):\n",
    "    minprice = min(stock_prices)\n",
    "    maxprice = max(stock_prices)\n",
    "    best_profit = maxprice - minprice\n",
    "    return print('Best profit from range of stock price given is {} dollars, where max price was {} and min price was {}'.format(best_profit,maxprice,minprice))\n",
    "\n",
    "best_profit(stockprices)"
   ]
  },
  {
   "cell_type": "markdown",
   "metadata": {},
   "source": [
    "## Q 2 ##"
   ]
  },
  {
   "cell_type": "code",
   "execution_count": 186,
   "metadata": {},
   "outputs": [],
   "source": [
    "test_sample = random.sample(range(1,5),3)"
   ]
  },
  {
   "cell_type": "code",
   "execution_count": 187,
   "metadata": {},
   "outputs": [
    {
     "data": {
      "text/plain": [
       "[4, 3, 1]"
      ]
     },
     "execution_count": 187,
     "metadata": {},
     "output_type": "execute_result"
    }
   ],
   "source": [
    "test_sample"
   ]
  },
  {
   "cell_type": "code",
   "execution_count": 188,
   "metadata": {},
   "outputs": [
    {
     "data": {
      "text/plain": [
       "[3, 4, 12]"
      ]
     },
     "execution_count": 188,
     "metadata": {},
     "output_type": "execute_result"
    }
   ],
   "source": [
    "test_sample = np.array(test_sample)\n",
    "[np.prod([i for e1,i  in enumerate(test_sample) if e1 != e2]) for e2, y in enumerate(test_sample)]"
   ]
  },
  {
   "cell_type": "markdown",
   "metadata": {},
   "source": [
    "## Q 3 ##"
   ]
  },
  {
   "cell_type": "code",
   "execution_count": 179,
   "metadata": {},
   "outputs": [],
   "source": [
    "l1 = [3, 4, 6, 13, 11, 19]\n",
    "l2 = [1, 5, 8, 12, 14, 15]"
   ]
  },
  {
   "cell_type": "code",
   "execution_count": 184,
   "metadata": {},
   "outputs": [],
   "source": [
    "def merge_list_order(l1,l2):\n",
    "    newlist =[]\n",
    "    for i in range(len(l1)):\n",
    "        newlist.append(l1[i])\n",
    "        newlist.append(l2[i])\n",
    "    return sorted(newlist)"
   ]
  },
  {
   "cell_type": "code",
   "execution_count": 185,
   "metadata": {},
   "outputs": [
    {
     "data": {
      "text/plain": [
       "[1, 3, 4, 5, 6, 8, 11, 12, 13, 14, 15, 19]"
      ]
     },
     "execution_count": 185,
     "metadata": {},
     "output_type": "execute_result"
    }
   ],
   "source": [
    "merge_list_order(l1,l2)"
   ]
  },
  {
   "cell_type": "markdown",
   "metadata": {},
   "source": [
    "## Q 4 ##"
   ]
  },
  {
   "cell_type": "code",
   "execution_count": 222,
   "metadata": {},
   "outputs": [],
   "source": [
    "movies = [60,60,70,50,40,80,100,20,50,70]\n",
    "flight = 120"
   ]
  },
  {
   "cell_type": "code",
   "execution_count": 282,
   "metadata": {},
   "outputs": [],
   "source": [
    "def two_movies(flight, movies):\n",
    "    lengths = {}\n",
    "    for m in movies:\n",
    "        m2 = flight - m\n",
    "        if m2 in movies:\n",
    "            lengths[m] = True\n",
    "            return lengths  "
   ]
  },
  {
   "cell_type": "code",
   "execution_count": 283,
   "metadata": {},
   "outputs": [
    {
     "data": {
      "text/plain": [
       "{60: True}"
      ]
     },
     "execution_count": 283,
     "metadata": {},
     "output_type": "execute_result"
    }
   ],
   "source": [
    "two_movies(flight, movies)"
   ]
  },
  {
   "cell_type": "markdown",
   "metadata": {},
   "source": [
    "## Q 5 ##\n",
    ">First answer: taken from some github account"
   ]
  },
  {
   "cell_type": "code",
   "execution_count": 10,
   "metadata": {},
   "outputs": [],
   "source": [
    "def is_valid(string):\n",
    "    bracket_map = {\n",
    "        '}': '{',\n",
    "        ']': '[',\n",
    "        ')': '(',\n",
    "    }\n",
    "\n",
    "    validation = []\n",
    "    for char in string:\n",
    "        if char in bracket_map.values():\n",
    "            validation.append(char)\n",
    "        else:\n",
    "            bracket_match = bracket_map.get(char, None)\n",
    "            if bracket_match != validation.pop():\n",
    "                return False\n",
    "\n",
    "    if not validation:\n",
    "        return True\n",
    "\n",
    "    return False"
   ]
  },
  {
   "cell_type": "code",
   "execution_count": 11,
   "metadata": {},
   "outputs": [],
   "source": [
    "test_string1 = '{{[]}}'\n",
    "test_string2 = '{[{]}'\n",
    "test_string3 =  '[[]'"
   ]
  },
  {
   "cell_type": "code",
   "execution_count": 12,
   "metadata": {},
   "outputs": [
    {
     "data": {
      "text/plain": [
       "True"
      ]
     },
     "execution_count": 12,
     "metadata": {},
     "output_type": "execute_result"
    }
   ],
   "source": [
    "is_valid(test_string1)"
   ]
  },
  {
   "cell_type": "code",
   "execution_count": 13,
   "metadata": {},
   "outputs": [
    {
     "data": {
      "text/plain": [
       "False"
      ]
     },
     "execution_count": 13,
     "metadata": {},
     "output_type": "execute_result"
    }
   ],
   "source": [
    "is_valid(test_string2)"
   ]
  },
  {
   "cell_type": "code",
   "execution_count": 14,
   "metadata": {},
   "outputs": [
    {
     "data": {
      "text/plain": [
       "False"
      ]
     },
     "execution_count": 14,
     "metadata": {},
     "output_type": "execute_result"
    }
   ],
   "source": [
    "is_valid(test_string3)"
   ]
  },
  {
   "cell_type": "markdown",
   "metadata": {},
   "source": [
    "__My solution at the moment after some studying. A solution that takes into consideration other letters and symbols__\n",
    "> Solution without comments. Commented solution below"
   ]
  },
  {
   "cell_type": "code",
   "execution_count": 27,
   "metadata": {},
   "outputs": [],
   "source": [
    "def input_string(string):\n",
    "    \n",
    "    '''This function checks for proper reconciliation if you have an open bracket in a string'''\n",
    "    \n",
    "    openers = ['{','[','(']\n",
    "    closers = ['}', ']',')']\n",
    "    \n",
    "    ### IF NO BRACKETS IN STRING, DO NOT EXECUTE ###\n",
    "    \n",
    "    brackets_in_string = []\n",
    "    [brackets_in_string.append(item) for item in openers+closers if item in string]\n",
    "    if len(brackets_in_string) == 0:\n",
    "        return False\n",
    "    \n",
    "    ### EXECUTE ONLY IF A BRACKET EXISTS IN THE STRING ###\n",
    "    \n",
    "    record_opener = [] \n",
    "    reconcile_mapper = {'{':'}', '[':']','(':')'}   \n",
    "    \n",
    "    for item in string:\n",
    "        \n",
    "        if item not in openers + closers:\n",
    "            pass\n",
    "        \n",
    "        if item in openers:\n",
    "            record_opener.append(item)\n",
    "            \n",
    "        elif item in closers:\n",
    "            if len(record_opener) == 0:\n",
    "                return False\n",
    "            for o,c in reconcile_mapper.items():\n",
    "                if item == c:\n",
    "                    item_mapped  = o \n",
    "            if item_mapped == record_opener[-1]:\n",
    "                record_opener.pop()\n",
    "            elif item_mapped != record_opener[-1]:\n",
    "                return False\n",
    "        \n",
    "    if len(record_opener) > 0:\n",
    "        return False\n",
    "    \n",
    "    return True"
   ]
  },
  {
   "cell_type": "code",
   "execution_count": 16,
   "metadata": {},
   "outputs": [
    {
     "data": {
      "text/plain": [
       "True"
      ]
     },
     "execution_count": 16,
     "metadata": {},
     "output_type": "execute_result"
    }
   ],
   "source": [
    "input_string('()')"
   ]
  },
  {
   "cell_type": "code",
   "execution_count": 17,
   "metadata": {},
   "outputs": [
    {
     "data": {
      "text/plain": [
       "False"
      ]
     },
     "execution_count": 17,
     "metadata": {},
     "output_type": "execute_result"
    }
   ],
   "source": [
    "input_string('(]')"
   ]
  },
  {
   "cell_type": "code",
   "execution_count": 18,
   "metadata": {},
   "outputs": [
    {
     "data": {
      "text/plain": [
       "False"
      ]
     },
     "execution_count": 18,
     "metadata": {},
     "output_type": "execute_result"
    }
   ],
   "source": [
    "input_string('[()')"
   ]
  },
  {
   "cell_type": "code",
   "execution_count": 19,
   "metadata": {},
   "outputs": [
    {
     "data": {
      "text/plain": [
       "True"
      ]
     },
     "execution_count": 19,
     "metadata": {},
     "output_type": "execute_result"
    }
   ],
   "source": [
    "input_string(\"(hi there, what's up!)\")"
   ]
  },
  {
   "cell_type": "code",
   "execution_count": 20,
   "metadata": {},
   "outputs": [
    {
     "data": {
      "text/plain": [
       "True"
      ]
     },
     "execution_count": 20,
     "metadata": {},
     "output_type": "execute_result"
    }
   ],
   "source": [
    "input_string(\"The mapping is {'A':'B'}, and the list is ['one', 'two']\")"
   ]
  },
  {
   "cell_type": "code",
   "execution_count": 21,
   "metadata": {},
   "outputs": [
    {
     "data": {
      "text/plain": [
       "False"
      ]
     },
     "execution_count": 21,
     "metadata": {},
     "output_type": "execute_result"
    }
   ],
   "source": [
    "input_string(\"The mapping is {'A':'B'}, and the list is ['one', 'two'] (?\")"
   ]
  },
  {
   "cell_type": "code",
   "execution_count": 25,
   "metadata": {},
   "outputs": [
    {
     "data": {
      "text/plain": [
       "False"
      ]
     },
     "execution_count": 25,
     "metadata": {},
     "output_type": "execute_result"
    }
   ],
   "source": [
    "input_string('yo!')"
   ]
  },
  {
   "cell_type": "code",
   "execution_count": 26,
   "metadata": {},
   "outputs": [
    {
     "data": {
      "text/plain": [
       "False"
      ]
     },
     "execution_count": 26,
     "metadata": {},
     "output_type": "execute_result"
    }
   ],
   "source": [
    "input_string('#')"
   ]
  },
  {
   "cell_type": "markdown",
   "metadata": {},
   "source": [
    "__Solution with comments__"
   ]
  },
  {
   "cell_type": "code",
   "execution_count": 24,
   "metadata": {},
   "outputs": [],
   "source": [
    "def input_string(string):\n",
    "    \n",
    "    '''This function checks for proper reconciliation if you have an open bracket in a string'''\n",
    "    \n",
    "    openers = ['{','[','('] # for opener detection\n",
    "    closers = ['}', ']',')'] # for closer detection\n",
    "    \n",
    "    ### IF NO BRACKETS IN STRING, DO NOT EXECUTE ###\n",
    "    \n",
    "    brackets_in_string = []\n",
    "    [brackets_in_string.append(item) for item in openers+closers if item in string]\n",
    "    if len(brackets_in_string) == 0:\n",
    "        return False\n",
    "    \n",
    "    ### EXECUTE ONLY IF A BRACKET EXISTS IN THE STRING ###\n",
    "    \n",
    "    record_opener = [] #for opener recording \n",
    "    reconcile_mapper = {'{':'}', '[':']','(':')'} #mapping closer to opener to reconcile    \n",
    "    \n",
    "    for item in string:\n",
    "        \n",
    "        if item not in openers + closers: #do not operate on anything that is not a bracket\n",
    "            pass\n",
    "        \n",
    "        if item in openers: # track openers \n",
    "            record_opener.append(item)\n",
    "            \n",
    "        elif item in closers: #3\n",
    "            if len(record_opener) == 0: # If you start off a closer - return False \n",
    "                return False\n",
    "            for o,c in reconcile_mapper.items(): #4 mapping closer to opener in dic\n",
    "                if item == c:\n",
    "                    item_mapped  = o \n",
    "            if item_mapped == record_opener[-1]: #if right reconciliation remove the opener from record\n",
    "                record_opener.pop()\n",
    "            elif item_mapped != record_opener[-1]: # if wrong reconciliation - return False\n",
    "                return False\n",
    "        \n",
    "    if len(record_opener) > 0: # At the end of it if there are openers left to be reconciled - return False\n",
    "        return False\n",
    "    \n",
    "    return True # If all conditions above are satisfied - return True"
   ]
  },
  {
   "cell_type": "code",
   "execution_count": 16,
   "metadata": {},
   "outputs": [
    {
     "data": {
      "text/plain": [
       "True"
      ]
     },
     "execution_count": 16,
     "metadata": {},
     "output_type": "execute_result"
    }
   ],
   "source": [
    "input_string('()')"
   ]
  },
  {
   "cell_type": "code",
   "execution_count": 17,
   "metadata": {},
   "outputs": [
    {
     "data": {
      "text/plain": [
       "False"
      ]
     },
     "execution_count": 17,
     "metadata": {},
     "output_type": "execute_result"
    }
   ],
   "source": [
    "input_string('(]') # wrong closing for opener"
   ]
  },
  {
   "cell_type": "code",
   "execution_count": 18,
   "metadata": {},
   "outputs": [
    {
     "data": {
      "text/plain": [
       "False"
      ]
     },
     "execution_count": 18,
     "metadata": {},
     "output_type": "execute_result"
    }
   ],
   "source": [
    "input_string('[()') # no closing for first opener"
   ]
  },
  {
   "cell_type": "code",
   "execution_count": 19,
   "metadata": {},
   "outputs": [
    {
     "data": {
      "text/plain": [
       "True"
      ]
     },
     "execution_count": 19,
     "metadata": {},
     "output_type": "execute_result"
    }
   ],
   "source": [
    "input_string(\"(hi there, what's up!)\") #able to take in letters"
   ]
  },
  {
   "cell_type": "code",
   "execution_count": 20,
   "metadata": {},
   "outputs": [
    {
     "data": {
      "text/plain": [
       "True"
      ]
     },
     "execution_count": 20,
     "metadata": {},
     "output_type": "execute_result"
    }
   ],
   "source": [
    "input_string(\"The mapping is {'A':'B'}, and the list is ['one', 'two']\")"
   ]
  },
  {
   "cell_type": "code",
   "execution_count": 21,
   "metadata": {},
   "outputs": [
    {
     "data": {
      "text/plain": [
       "False"
      ]
     },
     "execution_count": 21,
     "metadata": {},
     "output_type": "execute_result"
    }
   ],
   "source": [
    "input_string(\"The mapping is {'A':'B'}, and the list is ['one', 'two'] (?\") # no closing bracket"
   ]
  },
  {
   "cell_type": "code",
   "execution_count": 25,
   "metadata": {},
   "outputs": [
    {
     "data": {
      "text/plain": [
       "False"
      ]
     },
     "execution_count": 25,
     "metadata": {},
     "output_type": "execute_result"
    }
   ],
   "source": [
    "input_string('yo!') #no brackets in string "
   ]
  },
  {
   "cell_type": "code",
   "execution_count": 26,
   "metadata": {},
   "outputs": [
    {
     "data": {
      "text/plain": [
       "False"
      ]
     },
     "execution_count": 26,
     "metadata": {},
     "output_type": "execute_result"
    }
   ],
   "source": [
    "input_string('#') #no brackets in string "
   ]
  }
 ],
 "metadata": {
  "kernelspec": {
   "display_name": "Python 3",
   "language": "python",
   "name": "python3"
  },
  "language_info": {
   "codemirror_mode": {
    "name": "ipython",
    "version": 3
   },
   "file_extension": ".py",
   "mimetype": "text/x-python",
   "name": "python",
   "nbconvert_exporter": "python",
   "pygments_lexer": "ipython3",
   "version": "3.6.6"
  }
 },
 "nbformat": 4,
 "nbformat_minor": 2
}
