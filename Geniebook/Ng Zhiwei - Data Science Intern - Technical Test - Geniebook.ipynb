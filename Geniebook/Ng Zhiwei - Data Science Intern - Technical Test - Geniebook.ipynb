{
 "cells": [
  {
   "cell_type": "markdown",
   "metadata": {},
   "source": [
    "__Q1__"
   ]
  },
  {
   "cell_type": "code",
   "execution_count": 207,
   "metadata": {},
   "outputs": [],
   "source": [
    "import random\n",
    "stockprices = random.sample(range(1,20),10)"
   ]
  },
  {
   "cell_type": "code",
   "execution_count": 208,
   "metadata": {},
   "outputs": [
    {
     "data": {
      "text/plain": [
       "[13, 6, 8, 1, 19, 16, 17, 2, 11, 15]"
      ]
     },
     "execution_count": 208,
     "metadata": {},
     "output_type": "execute_result"
    }
   ],
   "source": [
    "stockprices"
   ]
  },
  {
   "cell_type": "code",
   "execution_count": 209,
   "metadata": {},
   "outputs": [
    {
     "name": "stdout",
     "output_type": "stream",
     "text": [
      "Best profit from range of stock price given is 18 dollars, where max price was 19 and min price was 1\n"
     ]
    }
   ],
   "source": [
    "def best_profit(stock_prices):\n",
    "    minprice = min(stock_prices)\n",
    "    maxprice = max(stock_prices)\n",
    "    best_profit = maxprice - minprice\n",
    "    return print('Best profit from range of stock price given is {} dollars, where max price was {} and min price was {}'.format(best_profit,maxprice,minprice))\n",
    "\n",
    "best_profit(stockprices)"
   ]
  },
  {
   "cell_type": "markdown",
   "metadata": {},
   "source": [
    "__Q2__"
   ]
  },
  {
   "cell_type": "code",
   "execution_count": 186,
   "metadata": {},
   "outputs": [],
   "source": [
    "test_sample = random.sample(range(1,5),3)"
   ]
  },
  {
   "cell_type": "code",
   "execution_count": 187,
   "metadata": {},
   "outputs": [
    {
     "data": {
      "text/plain": [
       "[4, 3, 1]"
      ]
     },
     "execution_count": 187,
     "metadata": {},
     "output_type": "execute_result"
    }
   ],
   "source": [
    "test_sample"
   ]
  },
  {
   "cell_type": "code",
   "execution_count": 188,
   "metadata": {},
   "outputs": [
    {
     "data": {
      "text/plain": [
       "[3, 4, 12]"
      ]
     },
     "execution_count": 188,
     "metadata": {},
     "output_type": "execute_result"
    }
   ],
   "source": [
    "test_sample = np.array(test_sample)\n",
    "[np.prod([i for e1,i  in enumerate(test_sample) if e1 != e2]) for e2, y in enumerate(test_sample)]"
   ]
  },
  {
   "cell_type": "markdown",
   "metadata": {},
   "source": [
    "__Q3__"
   ]
  },
  {
   "cell_type": "code",
   "execution_count": 179,
   "metadata": {},
   "outputs": [],
   "source": [
    "l1 = [3, 4, 6, 13, 11, 19]\n",
    "l2 = [1, 5, 8, 12, 14, 15]"
   ]
  },
  {
   "cell_type": "code",
   "execution_count": 184,
   "metadata": {},
   "outputs": [],
   "source": [
    "def merge_list_order(l1,l2):\n",
    "    newlist =[]\n",
    "    for i in range(len(l1)):\n",
    "        newlist.append(l1[i])\n",
    "        newlist.append(l2[i])\n",
    "    return sorted(newlist)"
   ]
  },
  {
   "cell_type": "code",
   "execution_count": 185,
   "metadata": {},
   "outputs": [
    {
     "data": {
      "text/plain": [
       "[1, 3, 4, 5, 6, 8, 11, 12, 13, 14, 15, 19]"
      ]
     },
     "execution_count": 185,
     "metadata": {},
     "output_type": "execute_result"
    }
   ],
   "source": [
    "merge_list_order(l1,l2)"
   ]
  },
  {
   "cell_type": "markdown",
   "metadata": {},
   "source": [
    "__Q4__"
   ]
  },
  {
   "cell_type": "code",
   "execution_count": 222,
   "metadata": {},
   "outputs": [],
   "source": [
    "movies = [60,60,70,50,40,80,100,20,50,70]\n",
    "flight = 120"
   ]
  },
  {
   "cell_type": "code",
   "execution_count": 282,
   "metadata": {},
   "outputs": [],
   "source": [
    "def two_movies(flight, movies):\n",
    "    lengths = {}\n",
    "    for m in movies:\n",
    "        m2 = flight - m\n",
    "        if m2 in movies:\n",
    "            lengths[m] = True\n",
    "            return lengths  "
   ]
  },
  {
   "cell_type": "code",
   "execution_count": 283,
   "metadata": {},
   "outputs": [
    {
     "data": {
      "text/plain": [
       "{60: True}"
      ]
     },
     "execution_count": 283,
     "metadata": {},
     "output_type": "execute_result"
    }
   ],
   "source": [
    "two_movies(flight, movies)"
   ]
  },
  {
   "cell_type": "markdown",
   "metadata": {},
   "source": [
    "__Q5__"
   ]
  },
  {
   "cell_type": "code",
   "execution_count": 312,
   "metadata": {},
   "outputs": [],
   "source": [
    "def is_valid(validate_string):\n",
    "    bracket_map = {\n",
    "        '}': '{',\n",
    "        ']': '[',\n",
    "        ')': '(',\n",
    "    }\n",
    "\n",
    "    valid_stack = []\n",
    "    for bracket in validate_string:\n",
    "        if bracket in bracket_map.values():\n",
    "            valid_stack.append(bracket)\n",
    "        else:\n",
    "            bracket_match = bracket_map.get(bracket, None)\n",
    "            if bracket_match != valid_stack.pop():\n",
    "                return False\n",
    "\n",
    "    if not valid_stack:\n",
    "        return True\n",
    "\n",
    "    return False"
   ]
  },
  {
   "cell_type": "code",
   "execution_count": 313,
   "metadata": {},
   "outputs": [],
   "source": [
    "test_string1 = '{{[]}}'\n",
    "test_string2 = '{[{]}'\n",
    "test_string3 =  '[[]'"
   ]
  },
  {
   "cell_type": "code",
   "execution_count": 314,
   "metadata": {},
   "outputs": [
    {
     "data": {
      "text/plain": [
       "True"
      ]
     },
     "execution_count": 314,
     "metadata": {},
     "output_type": "execute_result"
    }
   ],
   "source": [
    "is_valid(test_string1)"
   ]
  },
  {
   "cell_type": "code",
   "execution_count": 315,
   "metadata": {},
   "outputs": [
    {
     "data": {
      "text/plain": [
       "False"
      ]
     },
     "execution_count": 315,
     "metadata": {},
     "output_type": "execute_result"
    }
   ],
   "source": [
    "is_valid(test_string2)"
   ]
  },
  {
   "cell_type": "code",
   "execution_count": 316,
   "metadata": {},
   "outputs": [
    {
     "data": {
      "text/plain": [
       "False"
      ]
     },
     "execution_count": 316,
     "metadata": {},
     "output_type": "execute_result"
    }
   ],
   "source": [
    "is_valid(test_string3)"
   ]
  }
 ],
 "metadata": {
  "kernelspec": {
   "display_name": "Python 3",
   "language": "python",
   "name": "python3"
  },
  "language_info": {
   "codemirror_mode": {
    "name": "ipython",
    "version": 3
   },
   "file_extension": ".py",
   "mimetype": "text/x-python",
   "name": "python",
   "nbconvert_exporter": "python",
   "pygments_lexer": "ipython3",
   "version": "3.6.6"
  }
 },
 "nbformat": 4,
 "nbformat_minor": 2
}
