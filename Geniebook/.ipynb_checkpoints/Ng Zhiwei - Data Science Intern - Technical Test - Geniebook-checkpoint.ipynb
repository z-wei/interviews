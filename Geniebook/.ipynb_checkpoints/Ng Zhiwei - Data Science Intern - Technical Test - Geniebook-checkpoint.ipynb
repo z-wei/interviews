{
 "cells": [
  {
   "cell_type": "markdown",
   "metadata": {},
   "source": [
    "![Image](data:image/png;base64,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)"
   ]
  },
  {
   "cell_type": "markdown",
   "metadata": {},
   "source": [
    "## Q 1 ##"
   ]
  },
  {
   "cell_type": "code",
   "execution_count": 207,
   "metadata": {},
   "outputs": [],
   "source": [
    "import random\n",
    "stockprices = random.sample(range(1,20),10)"
   ]
  },
  {
   "cell_type": "code",
   "execution_count": 208,
   "metadata": {},
   "outputs": [
    {
     "data": {
      "text/plain": [
       "[13, 6, 8, 1, 19, 16, 17, 2, 11, 15]"
      ]
     },
     "execution_count": 208,
     "metadata": {},
     "output_type": "execute_result"
    }
   ],
   "source": [
    "stockprices"
   ]
  },
  {
   "cell_type": "code",
   "execution_count": 209,
   "metadata": {},
   "outputs": [
    {
     "name": "stdout",
     "output_type": "stream",
     "text": [
      "Best profit from range of stock price given is 18 dollars, where max price was 19 and min price was 1\n"
     ]
    }
   ],
   "source": [
    "def best_profit(stock_prices):\n",
    "    minprice = min(stock_prices)\n",
    "    maxprice = max(stock_prices)\n",
    "    best_profit = maxprice - minprice\n",
    "    return print('Best profit from range of stock price given is {} dollars, where max price was {} and min price was {}'.format(best_profit,maxprice,minprice))\n",
    "\n",
    "best_profit(stockprices)"
   ]
  },
  {
   "cell_type": "markdown",
   "metadata": {},
   "source": [
    "## Q 2 ##"
   ]
  },
  {
   "cell_type": "code",
   "execution_count": 186,
   "metadata": {},
   "outputs": [],
   "source": [
    "test_sample = random.sample(range(1,5),3)"
   ]
  },
  {
   "cell_type": "code",
   "execution_count": 187,
   "metadata": {},
   "outputs": [
    {
     "data": {
      "text/plain": [
       "[4, 3, 1]"
      ]
     },
     "execution_count": 187,
     "metadata": {},
     "output_type": "execute_result"
    }
   ],
   "source": [
    "test_sample"
   ]
  },
  {
   "cell_type": "code",
   "execution_count": 188,
   "metadata": {},
   "outputs": [
    {
     "data": {
      "text/plain": [
       "[3, 4, 12]"
      ]
     },
     "execution_count": 188,
     "metadata": {},
     "output_type": "execute_result"
    }
   ],
   "source": [
    "test_sample = np.array(test_sample)\n",
    "[np.prod([i for e1,i  in enumerate(test_sample) if e1 != e2]) for e2, y in enumerate(test_sample)]"
   ]
  },
  {
   "cell_type": "markdown",
   "metadata": {},
   "source": [
    "## Q 3 ##"
   ]
  },
  {
   "cell_type": "code",
   "execution_count": 179,
   "metadata": {},
   "outputs": [],
   "source": [
    "l1 = [3, 4, 6, 13, 11, 19]\n",
    "l2 = [1, 5, 8, 12, 14, 15]"
   ]
  },
  {
   "cell_type": "code",
   "execution_count": 184,
   "metadata": {},
   "outputs": [],
   "source": [
    "def merge_list_order(l1,l2):\n",
    "    newlist =[]\n",
    "    for i in range(len(l1)):\n",
    "        newlist.append(l1[i])\n",
    "        newlist.append(l2[i])\n",
    "    return sorted(newlist)"
   ]
  },
  {
   "cell_type": "code",
   "execution_count": 185,
   "metadata": {},
   "outputs": [
    {
     "data": {
      "text/plain": [
       "[1, 3, 4, 5, 6, 8, 11, 12, 13, 14, 15, 19]"
      ]
     },
     "execution_count": 185,
     "metadata": {},
     "output_type": "execute_result"
    }
   ],
   "source": [
    "merge_list_order(l1,l2)"
   ]
  },
  {
   "cell_type": "markdown",
   "metadata": {},
   "source": [
    "## Q 4 ##"
   ]
  },
  {
   "cell_type": "code",
   "execution_count": 222,
   "metadata": {},
   "outputs": [],
   "source": [
    "movies = [60,60,70,50,40,80,100,20,50,70]\n",
    "flight = 120"
   ]
  },
  {
   "cell_type": "code",
   "execution_count": 282,
   "metadata": {},
   "outputs": [],
   "source": [
    "def two_movies(flight, movies):\n",
    "    lengths = {}\n",
    "    for m in movies:\n",
    "        m2 = flight - m\n",
    "        if m2 in movies:\n",
    "            lengths[m] = True\n",
    "            return lengths  "
   ]
  },
  {
   "cell_type": "code",
   "execution_count": 283,
   "metadata": {},
   "outputs": [
    {
     "data": {
      "text/plain": [
       "{60: True}"
      ]
     },
     "execution_count": 283,
     "metadata": {},
     "output_type": "execute_result"
    }
   ],
   "source": [
    "two_movies(flight, movies)"
   ]
  },
  {
   "cell_type": "markdown",
   "metadata": {},
   "source": [
    "## Q 5 ##\n",
    ">first answer: taken from some github account__ "
   ]
  },
  {
   "cell_type": "code",
   "execution_count": 10,
   "metadata": {},
   "outputs": [],
   "source": [
    "def is_valid(string):\n",
    "    bracket_map = {\n",
    "        '}': '{',\n",
    "        ']': '[',\n",
    "        ')': '(',\n",
    "    }\n",
    "\n",
    "    validation = []\n",
    "    for char in string:\n",
    "        if char in bracket_map.values():\n",
    "            validation.append(char)\n",
    "        else:\n",
    "            bracket_match = bracket_map.get(char, None)\n",
    "            if bracket_match != validation.pop():\n",
    "                return False\n",
    "\n",
    "    if not validation:\n",
    "        return True\n",
    "\n",
    "    return False"
   ]
  },
  {
   "cell_type": "code",
   "execution_count": 11,
   "metadata": {},
   "outputs": [],
   "source": [
    "test_string1 = '{{[]}}'\n",
    "test_string2 = '{[{]}'\n",
    "test_string3 =  '[[]'"
   ]
  },
  {
   "cell_type": "code",
   "execution_count": 12,
   "metadata": {},
   "outputs": [
    {
     "data": {
      "text/plain": [
       "True"
      ]
     },
     "execution_count": 12,
     "metadata": {},
     "output_type": "execute_result"
    }
   ],
   "source": [
    "is_valid(test_string1)"
   ]
  },
  {
   "cell_type": "code",
   "execution_count": 13,
   "metadata": {},
   "outputs": [
    {
     "data": {
      "text/plain": [
       "False"
      ]
     },
     "execution_count": 13,
     "metadata": {},
     "output_type": "execute_result"
    }
   ],
   "source": [
    "is_valid(test_string2)"
   ]
  },
  {
   "cell_type": "code",
   "execution_count": 14,
   "metadata": {},
   "outputs": [
    {
     "data": {
      "text/plain": [
       "False"
      ]
     },
     "execution_count": 14,
     "metadata": {},
     "output_type": "execute_result"
    }
   ],
   "source": [
    "is_valid(test_string3)"
   ]
  },
  {
   "cell_type": "markdown",
   "metadata": {},
   "source": [
    "__My solution at the moment after some studying. A solution that takes into consideration other letters and symbols__\n",
    "> Solution without comments. Commented solution below"
   ]
  },
  {
   "cell_type": "code",
   "execution_count": 27,
   "metadata": {},
   "outputs": [],
   "source": [
    "def input_string(string):\n",
    "    \n",
    "    '''This function checks for proper reconciliation if you have an open bracket in a string'''\n",
    "    \n",
    "    openers = ['{','[','(']\n",
    "    closers = ['}', ']',')']\n",
    "    \n",
    "    ### IF NO BRACKETS IN STRING, DO NOT EXECUTE ###\n",
    "    \n",
    "    brackets_in_string = []\n",
    "    [brackets_in_string.append(item) for item in openers+closers if item in string]\n",
    "    if len(brackets_in_string) == 0:\n",
    "        return False\n",
    "    \n",
    "    ### EXECUTE ONLY IF A BRACKET EXISTS IN THE STRING ###\n",
    "    \n",
    "    record_opener = [] \n",
    "    reconcile_mapper = {'{':'}', '[':']','(':')'}   \n",
    "    \n",
    "    for item in string:\n",
    "        \n",
    "        if item not in openers + closers:\n",
    "            pass\n",
    "        \n",
    "        if item in openers:\n",
    "            record_opener.append(item)\n",
    "            \n",
    "        elif item in closers: #3\n",
    "            if len(record_opener) == 0:\n",
    "                return False\n",
    "            for o,c in reconcile_mapper.items():\n",
    "                if item == c:\n",
    "                    item_mapped  = o \n",
    "            if item_mapped == record_opener[-1]:\n",
    "                record_opener.pop()\n",
    "            elif item_mapped != record_opener[-1]:\n",
    "                return False\n",
    "        \n",
    "    if len(record_opener) > 0:\n",
    "        return False\n",
    "    \n",
    "    return True"
   ]
  },
  {
   "cell_type": "code",
   "execution_count": 16,
   "metadata": {},
   "outputs": [
    {
     "data": {
      "text/plain": [
       "True"
      ]
     },
     "execution_count": 16,
     "metadata": {},
     "output_type": "execute_result"
    }
   ],
   "source": [
    "input_string('()')"
   ]
  },
  {
   "cell_type": "code",
   "execution_count": 17,
   "metadata": {},
   "outputs": [
    {
     "data": {
      "text/plain": [
       "False"
      ]
     },
     "execution_count": 17,
     "metadata": {},
     "output_type": "execute_result"
    }
   ],
   "source": [
    "input_string('(]')"
   ]
  },
  {
   "cell_type": "code",
   "execution_count": 18,
   "metadata": {},
   "outputs": [
    {
     "data": {
      "text/plain": [
       "False"
      ]
     },
     "execution_count": 18,
     "metadata": {},
     "output_type": "execute_result"
    }
   ],
   "source": [
    "input_string('[()')"
   ]
  },
  {
   "cell_type": "code",
   "execution_count": 19,
   "metadata": {},
   "outputs": [
    {
     "data": {
      "text/plain": [
       "True"
      ]
     },
     "execution_count": 19,
     "metadata": {},
     "output_type": "execute_result"
    }
   ],
   "source": [
    "input_string(\"(hi there, what's up!)\")"
   ]
  },
  {
   "cell_type": "code",
   "execution_count": 20,
   "metadata": {},
   "outputs": [
    {
     "data": {
      "text/plain": [
       "True"
      ]
     },
     "execution_count": 20,
     "metadata": {},
     "output_type": "execute_result"
    }
   ],
   "source": [
    "input_string(\"The mapping is {'A':'B'}, and the list is ['one', 'two']\")"
   ]
  },
  {
   "cell_type": "code",
   "execution_count": 21,
   "metadata": {},
   "outputs": [
    {
     "data": {
      "text/plain": [
       "False"
      ]
     },
     "execution_count": 21,
     "metadata": {},
     "output_type": "execute_result"
    }
   ],
   "source": [
    "input_string(\"The mapping is {'A':'B'}, and the list is ['one', 'two'] (?\")"
   ]
  },
  {
   "cell_type": "code",
   "execution_count": 25,
   "metadata": {},
   "outputs": [
    {
     "data": {
      "text/plain": [
       "False"
      ]
     },
     "execution_count": 25,
     "metadata": {},
     "output_type": "execute_result"
    }
   ],
   "source": [
    "input_string('yo!')"
   ]
  },
  {
   "cell_type": "code",
   "execution_count": 26,
   "metadata": {},
   "outputs": [
    {
     "data": {
      "text/plain": [
       "False"
      ]
     },
     "execution_count": 26,
     "metadata": {},
     "output_type": "execute_result"
    }
   ],
   "source": [
    "input_string('#')"
   ]
  },
  {
   "cell_type": "markdown",
   "metadata": {},
   "source": [
    "__Solution with comments__"
   ]
  },
  {
   "cell_type": "code",
   "execution_count": 24,
   "metadata": {},
   "outputs": [],
   "source": [
    "def input_string(string):\n",
    "    \n",
    "    '''This function checks for proper reconciliation if you have an open bracket in a string'''\n",
    "    \n",
    "    openers = ['{','[','('] # for opener detection\n",
    "    closers = ['}', ']',')'] # for closer detection\n",
    "    \n",
    "    ### IF NO BRACKETS IN STRING, DO NOT EXECUTE ###\n",
    "    \n",
    "    brackets_in_string = []\n",
    "    [brackets_in_string.append(item) for item in openers+closers if item in string]\n",
    "    if len(brackets_in_string) == 0:\n",
    "        return False\n",
    "    \n",
    "    ### EXECUTE ONLY IF A BRACKET EXISTS IN THE STRING ###\n",
    "    \n",
    "    record_opener = [] #for opener recording \n",
    "    reconcile_mapper = {'{':'}', '[':']','(':')'} #mapping closer to opener to reconcile    \n",
    "    \n",
    "    for item in string:\n",
    "        \n",
    "        if item not in openers + closers: #do not operate on anything that is not a bracket\n",
    "            pass\n",
    "        \n",
    "        if item in openers: # track openers \n",
    "            record_opener.append(item)\n",
    "            \n",
    "        elif item in closers: #3\n",
    "            if len(record_opener) == 0: # If you start off a closer - return False \n",
    "                return False\n",
    "            for o,c in reconcile_mapper.items(): #4 mapping closer to opener in dic\n",
    "                if item == c:\n",
    "                    item_mapped  = o \n",
    "            if item_mapped == record_opener[-1]: #if right reconciliation remove the opener from record\n",
    "                record_opener.pop()\n",
    "            elif item_mapped != record_opener[-1]: # if wrong reconciliation - return False\n",
    "                return False\n",
    "        \n",
    "    if len(record_opener) > 0: # At the end of it if there are openers left to be reconciled - return False\n",
    "        return False\n",
    "    \n",
    "    return True # If all conditions above are satisfied - return True"
   ]
  },
  {
   "cell_type": "code",
   "execution_count": 16,
   "metadata": {},
   "outputs": [
    {
     "data": {
      "text/plain": [
       "True"
      ]
     },
     "execution_count": 16,
     "metadata": {},
     "output_type": "execute_result"
    }
   ],
   "source": [
    "input_string('()')"
   ]
  },
  {
   "cell_type": "code",
   "execution_count": 17,
   "metadata": {},
   "outputs": [
    {
     "data": {
      "text/plain": [
       "False"
      ]
     },
     "execution_count": 17,
     "metadata": {},
     "output_type": "execute_result"
    }
   ],
   "source": [
    "input_string('(]') # wrong closing for opener"
   ]
  },
  {
   "cell_type": "code",
   "execution_count": 18,
   "metadata": {},
   "outputs": [
    {
     "data": {
      "text/plain": [
       "False"
      ]
     },
     "execution_count": 18,
     "metadata": {},
     "output_type": "execute_result"
    }
   ],
   "source": [
    "input_string('[()') # no closing for first opener"
   ]
  },
  {
   "cell_type": "code",
   "execution_count": 19,
   "metadata": {},
   "outputs": [
    {
     "data": {
      "text/plain": [
       "True"
      ]
     },
     "execution_count": 19,
     "metadata": {},
     "output_type": "execute_result"
    }
   ],
   "source": [
    "input_string(\"(hi there, what's up!)\") #able to take in letters"
   ]
  },
  {
   "cell_type": "code",
   "execution_count": 20,
   "metadata": {},
   "outputs": [
    {
     "data": {
      "text/plain": [
       "True"
      ]
     },
     "execution_count": 20,
     "metadata": {},
     "output_type": "execute_result"
    }
   ],
   "source": [
    "input_string(\"The mapping is {'A':'B'}, and the list is ['one', 'two']\")"
   ]
  },
  {
   "cell_type": "code",
   "execution_count": 21,
   "metadata": {},
   "outputs": [
    {
     "data": {
      "text/plain": [
       "False"
      ]
     },
     "execution_count": 21,
     "metadata": {},
     "output_type": "execute_result"
    }
   ],
   "source": [
    "input_string(\"The mapping is {'A':'B'}, and the list is ['one', 'two'] (?\") # no closing bracket"
   ]
  },
  {
   "cell_type": "code",
   "execution_count": 25,
   "metadata": {},
   "outputs": [
    {
     "data": {
      "text/plain": [
       "False"
      ]
     },
     "execution_count": 25,
     "metadata": {},
     "output_type": "execute_result"
    }
   ],
   "source": [
    "input_string('yo!') #no brackets in string "
   ]
  },
  {
   "cell_type": "code",
   "execution_count": 26,
   "metadata": {},
   "outputs": [
    {
     "data": {
      "text/plain": [
       "False"
      ]
     },
     "execution_count": 26,
     "metadata": {},
     "output_type": "execute_result"
    }
   ],
   "source": [
    "input_string('#') #no brackets in string "
   ]
  }
 ],
 "metadata": {
  "kernelspec": {
   "display_name": "Python 3",
   "language": "python",
   "name": "python3"
  },
  "language_info": {
   "codemirror_mode": {
    "name": "ipython",
    "version": 3
   },
   "file_extension": ".py",
   "mimetype": "text/x-python",
   "name": "python",
   "nbconvert_exporter": "python",
   "pygments_lexer": "ipython3",
   "version": "3.6.6"
  }
 },
 "nbformat": 4,
 "nbformat_minor": 2
}
