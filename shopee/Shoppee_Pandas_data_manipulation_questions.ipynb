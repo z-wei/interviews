{
 "cells": [
  {
   "cell_type": "markdown",
   "metadata": {},
   "source": [
    "<center><h1>Shoppee Pandas data manipulation questions</h1></center>"
   ]
  },
  {
   "cell_type": "markdown",
   "metadata": {},
   "source": [
    "## Question 1:"
   ]
  },
  {
   "cell_type": "markdown",
   "metadata": {},
   "source": [
    "#### a. Use pandas function to read the Test_Pandas.xlsx file in."
   ]
  },
  {
   "cell_type": "code",
   "execution_count": 64,
   "metadata": {},
   "outputs": [],
   "source": [
    "import pandas as pd\n",
    "data = pd.read_excel('data.xlsx')"
   ]
  },
  {
   "cell_type": "markdown",
   "metadata": {},
   "source": [
    "#### b. Assign all column names to a variable named “columns”"
   ]
  },
  {
   "cell_type": "code",
   "execution_count": 65,
   "metadata": {},
   "outputs": [],
   "source": [
    "columns = data.columns"
   ]
  },
  {
   "cell_type": "markdown",
   "metadata": {},
   "source": [
    "---- \n",
    "## 2.\tUse pandas function to find:"
   ]
  },
  {
   "cell_type": "markdown",
   "metadata": {},
   "source": [
    "#### a.\tHow many unique shops are in the dataset?"
   ]
  },
  {
   "cell_type": "code",
   "execution_count": 66,
   "metadata": {},
   "outputs": [
    {
     "data": {
      "text/plain": [
       "7856"
      ]
     },
     "execution_count": 66,
     "metadata": {},
     "output_type": "execute_result"
    }
   ],
   "source": [
    "data.shopid.nunique()"
   ]
  },
  {
   "cell_type": "markdown",
   "metadata": {},
   "source": [
    "#### b.\tHow many unique preferred and cross border shops are in the dataset?"
   ]
  },
  {
   "cell_type": "code",
   "execution_count": 67,
   "metadata": {},
   "outputs": [
    {
     "data": {
      "text/plain": [
       "158"
      ]
     },
     "execution_count": 67,
     "metadata": {},
     "output_type": "execute_result"
    }
   ],
   "source": [
    "data[(data.cb_option == 1) & (data.is_preferred == 1)].shopid.nunique()"
   ]
  },
  {
   "cell_type": "markdown",
   "metadata": {},
   "source": [
    "#### c.\tHow many products have zero sold count?"
   ]
  },
  {
   "cell_type": "code",
   "execution_count": 68,
   "metadata": {},
   "outputs": [
    {
     "data": {
      "text/plain": [
       "438092"
      ]
     },
     "execution_count": 68,
     "metadata": {},
     "output_type": "execute_result"
    }
   ],
   "source": [
    "data[data.sold_count == 0].itemid.count()"
   ]
  },
  {
   "cell_type": "markdown",
   "metadata": {},
   "source": [
    "#### d.\tHow many products were created in the year 2018?"
   ]
  },
  {
   "cell_type": "code",
   "execution_count": 69,
   "metadata": {},
   "outputs": [
    {
     "data": {
      "text/plain": [
       "177407"
      ]
     },
     "execution_count": 69,
     "metadata": {},
     "output_type": "execute_result"
    }
   ],
   "source": [
    "data[data.item_creation_date.dt.year == 2018].itemid.count()"
   ]
  },
  {
   "cell_type": "code",
   "execution_count": 91,
   "metadata": {},
   "outputs": [
    {
     "data": {
      "text/plain": [
       "177407"
      ]
     },
     "execution_count": 91,
     "metadata": {},
     "output_type": "execute_result"
    }
   ],
   "source": [
    "len(data[data.item_creation_date.dt.year == 2018])"
   ]
  },
  {
   "cell_type": "markdown",
   "metadata": {},
   "source": [
    "---\n",
    "## 3.\tUse pandas function to find:"
   ]
  },
  {
   "cell_type": "markdown",
   "metadata": {},
   "source": [
    "#### a.\tTop 3 Preferred shops’ shopid that have the largest number of unique products"
   ]
  },
  {
   "cell_type": "code",
   "execution_count": 70,
   "metadata": {},
   "outputs": [
    {
     "data": {
      "text/plain": [
       "shopid\n",
       "43384791    2034\n",
       "6072241     1998\n",
       "26974701    1037\n",
       "Name: itemid, dtype: int64"
      ]
     },
     "execution_count": 70,
     "metadata": {},
     "output_type": "execute_result"
    }
   ],
   "source": [
    "data[data.is_preferred == 1].groupby('shopid').itemid.count().sort_values(ascending=False).head(3)"
   ]
  },
  {
   "cell_type": "markdown",
   "metadata": {},
   "source": [
    "#### b.\tTop 3 Categories that have the largest number of unique cross-border products"
   ]
  },
  {
   "cell_type": "code",
   "execution_count": 71,
   "metadata": {},
   "outputs": [
    {
     "data": {
      "text/plain": [
       "category\n",
       "Women's Apparel     80494\n",
       "Mobile & Gadgets    58760\n",
       "Men's Wear          51795\n",
       "Name: itemid, dtype: int64"
      ]
     },
     "execution_count": 71,
     "metadata": {},
     "output_type": "execute_result"
    }
   ],
   "source": [
    "data[data.cb_option == 1].groupby('category').itemid.count().sort_values(ascending=False).head(3)"
   ]
  },
  {
   "cell_type": "markdown",
   "metadata": {},
   "source": [
    "---\n",
    "## 4. Find Top 3 shopid with the highest revenue (Assumption: the product price has not been changed.) "
   ]
  },
  {
   "cell_type": "code",
   "execution_count": 72,
   "metadata": {},
   "outputs": [],
   "source": [
    "# creating a new column revenue which is atttained by taking the price of the product x each count of it sold.\n",
    "data['revenue'] = data.price * data.sold_count"
   ]
  },
  {
   "cell_type": "code",
   "execution_count": 73,
   "metadata": {},
   "outputs": [
    {
     "data": {
      "text/plain": [
       "shopid\n",
       "18796234    177897.79\n",
       "30769353     63491.39\n",
       "30628794     39852.00\n",
       "Name: revenue, dtype: float64"
      ]
     },
     "execution_count": 73,
     "metadata": {},
     "output_type": "execute_result"
    }
   ],
   "source": [
    "# Grouping the shop id and then using the sum aggregate to attain total revenue per shop.\n",
    "data.groupby('shopid').revenue.sum().sort_values(ascending=False).head(3)"
   ]
  },
  {
   "cell_type": "markdown",
   "metadata": {},
   "source": [
    "---\n",
    "## 5.\tFind the number of products that have more than 3 variations (do not include products with 3 or fewer variations)"
   ]
  },
  {
   "cell_type": "code",
   "execution_count": 94,
   "metadata": {},
   "outputs": [
    {
     "data": {
      "text/plain": [
       "213585"
      ]
     },
     "execution_count": 94,
     "metadata": {},
     "output_type": "execute_result"
    }
   ],
   "source": [
    "df[data.item_variation.apply(lambda x: x.count(',')) > 3].itemid.count()"
   ]
  },
  {
   "cell_type": "code",
   "execution_count": 74,
   "metadata": {},
   "outputs": [],
   "source": [
    "import numpy as np\n",
    "data['3var'] = np.where(data.item_variation.apply(lambda x: x.count(',')) > 3, 'yes', 'no')"
   ]
  },
  {
   "cell_type": "markdown",
   "metadata": {},
   "source": [
    "#### Breaking down the one-liner code above"
   ]
  },
  {
   "cell_type": "code",
   "execution_count": 75,
   "metadata": {},
   "outputs": [
    {
     "data": {
      "text/plain": [
       "0    0\n",
       "1    0\n",
       "2    0\n",
       "3    0\n",
       "4    5\n",
       "Name: item_variation, dtype: int64"
      ]
     },
     "execution_count": 75,
     "metadata": {},
     "output_type": "execute_result"
    }
   ],
   "source": [
    "# Since each variation is separated by a comma count the commas using the apply function.\n",
    "# As you can see the first 4 rows have 0 variations and row 4 has 5 variation\n",
    "data.item_variation.apply(lambda x: x.count(',')).head(5)"
   ]
  },
  {
   "cell_type": "code",
   "execution_count": 76,
   "metadata": {},
   "outputs": [
    {
     "data": {
      "text/plain": [
       "0    False\n",
       "1    False\n",
       "2    False\n",
       "3    False\n",
       "4     True\n",
       "Name: item_variation, dtype: bool"
      ]
     },
     "execution_count": 76,
     "metadata": {},
     "output_type": "execute_result"
    }
   ],
   "source": [
    "# applying the filter of bigger than 3 I get boolean values in return\n",
    "# row 4 has 5 variations and that is more than 3 so it returns True\n",
    "(data.item_variation.apply(lambda x: x.count(',')) > 3).head(5)"
   ]
  },
  {
   "cell_type": "code",
   "execution_count": 77,
   "metadata": {},
   "outputs": [
    {
     "data": {
      "text/plain": [
       "array(['no', 'no', 'no', 'no', 'yes'], dtype='<U3')"
      ]
     },
     "execution_count": 77,
     "metadata": {},
     "output_type": "execute_result"
    }
   ],
   "source": [
    "# np.where works like this : np.where(boolean values, x, y)\n",
    "# For the boolean values it returns x (the second parameter) if the boolean value is True\n",
    "# and it returns y if the boolean values is False.\n",
    "# You can see that the first 4 values are 'no' and the 5th value is 'yes' \n",
    "np.where(data.item_variation.apply(lambda x: x.count(',')) > 3, 'yes', 'no')[:5]"
   ]
  },
  {
   "cell_type": "code",
   "execution_count": 78,
   "metadata": {},
   "outputs": [],
   "source": [
    "# Translate these values into a new column in the data frame \n",
    "data['3var'] = np.where(data.item_variation.apply(lambda x: x.count(',')) > 3, 'yes', 'no')"
   ]
  },
  {
   "cell_type": "code",
   "execution_count": 79,
   "metadata": {},
   "outputs": [
    {
     "data": {
      "text/html": [
       "<div>\n",
       "<style scoped>\n",
       "    .dataframe tbody tr th:only-of-type {\n",
       "        vertical-align: middle;\n",
       "    }\n",
       "\n",
       "    .dataframe tbody tr th {\n",
       "        vertical-align: top;\n",
       "    }\n",
       "\n",
       "    .dataframe thead th {\n",
       "        text-align: right;\n",
       "    }\n",
       "</style>\n",
       "<table border=\"1\" class=\"dataframe\">\n",
       "  <thead>\n",
       "    <tr style=\"text-align: right;\">\n",
       "      <th></th>\n",
       "      <th>itemid</th>\n",
       "      <th>shopid</th>\n",
       "      <th>item_name</th>\n",
       "      <th>item_description</th>\n",
       "      <th>item_variation</th>\n",
       "      <th>price</th>\n",
       "      <th>stock</th>\n",
       "      <th>category</th>\n",
       "      <th>cb_option</th>\n",
       "      <th>is_preferred</th>\n",
       "      <th>sold_count</th>\n",
       "      <th>item_creation_date</th>\n",
       "      <th>revenue</th>\n",
       "      <th>3var</th>\n",
       "    </tr>\n",
       "  </thead>\n",
       "  <tbody>\n",
       "    <tr>\n",
       "      <th>0</th>\n",
       "      <td>1925574</td>\n",
       "      <td>210000</td>\n",
       "      <td>Golden mobile numbers</td>\n",
       "      <td>Unregistered prepaid cards1) 93355333  selling...</td>\n",
       "      <td>{}</td>\n",
       "      <td>400.0</td>\n",
       "      <td>1</td>\n",
       "      <td>Mobile &amp; Gadgets</td>\n",
       "      <td>0</td>\n",
       "      <td>0</td>\n",
       "      <td>0</td>\n",
       "      <td>2015-10-01 00:24:42</td>\n",
       "      <td>0.0</td>\n",
       "      <td>no</td>\n",
       "    </tr>\n",
       "    <tr>\n",
       "      <th>1</th>\n",
       "      <td>1925617</td>\n",
       "      <td>210000</td>\n",
       "      <td>Golden mobile numbers</td>\n",
       "      <td>Unregistered prepaid cards1) 93355888  selling...</td>\n",
       "      <td>{}</td>\n",
       "      <td>400.0</td>\n",
       "      <td>1</td>\n",
       "      <td>Mobile &amp; Gadgets</td>\n",
       "      <td>0</td>\n",
       "      <td>0</td>\n",
       "      <td>0</td>\n",
       "      <td>2015-10-01 00:26:37</td>\n",
       "      <td>0.0</td>\n",
       "      <td>no</td>\n",
       "    </tr>\n",
       "    <tr>\n",
       "      <th>2</th>\n",
       "      <td>943600</td>\n",
       "      <td>210000</td>\n",
       "      <td>Golden Mobile Numbers</td>\n",
       "      <td>Unregistered prepaid cards. Can port to post p...</td>\n",
       "      <td>{}</td>\n",
       "      <td>8.0</td>\n",
       "      <td>1</td>\n",
       "      <td>Mobile &amp; Gadgets</td>\n",
       "      <td>0</td>\n",
       "      <td>0</td>\n",
       "      <td>0</td>\n",
       "      <td>2015-08-25 21:02:13</td>\n",
       "      <td>0.0</td>\n",
       "      <td>no</td>\n",
       "    </tr>\n",
       "    <tr>\n",
       "      <th>3</th>\n",
       "      <td>1064405</td>\n",
       "      <td>210000</td>\n",
       "      <td>Golden Mobile Numbers</td>\n",
       "      <td>Unregistered prepaid cards. Can port to post p...</td>\n",
       "      <td>{}</td>\n",
       "      <td>8.0</td>\n",
       "      <td>1</td>\n",
       "      <td>Mobile &amp; Gadgets</td>\n",
       "      <td>0</td>\n",
       "      <td>0</td>\n",
       "      <td>0</td>\n",
       "      <td>2015-08-30 20:16:07</td>\n",
       "      <td>0.0</td>\n",
       "      <td>no</td>\n",
       "    </tr>\n",
       "    <tr>\n",
       "      <th>4</th>\n",
       "      <td>20046620</td>\n",
       "      <td>760000</td>\n",
       "      <td>101% AUTHENTIC BASEBALL CAPS</td>\n",
       "      <td>PREORDER Takes about 23 weeks to arrive, will ...</td>\n",
       "      <td>{NEWERA BLACK: 35.0, NIKE SWOOSH DENIM: 35.0, ...</td>\n",
       "      <td>35.0</td>\n",
       "      <td>300</td>\n",
       "      <td>Women's Apparel</td>\n",
       "      <td>0</td>\n",
       "      <td>0</td>\n",
       "      <td>0</td>\n",
       "      <td>2016-05-09 01:14:34</td>\n",
       "      <td>0.0</td>\n",
       "      <td>yes</td>\n",
       "    </tr>\n",
       "  </tbody>\n",
       "</table>\n",
       "</div>"
      ],
      "text/plain": [
       "     itemid  shopid                     item_name  \\\n",
       "0   1925574  210000         Golden mobile numbers   \n",
       "1   1925617  210000         Golden mobile numbers   \n",
       "2    943600  210000         Golden Mobile Numbers   \n",
       "3   1064405  210000         Golden Mobile Numbers   \n",
       "4  20046620  760000  101% AUTHENTIC BASEBALL CAPS   \n",
       "\n",
       "                                    item_description  \\\n",
       "0  Unregistered prepaid cards1) 93355333  selling...   \n",
       "1  Unregistered prepaid cards1) 93355888  selling...   \n",
       "2  Unregistered prepaid cards. Can port to post p...   \n",
       "3  Unregistered prepaid cards. Can port to post p...   \n",
       "4  PREORDER Takes about 23 weeks to arrive, will ...   \n",
       "\n",
       "                                      item_variation  price  stock  \\\n",
       "0                                                 {}  400.0      1   \n",
       "1                                                 {}  400.0      1   \n",
       "2                                                 {}    8.0      1   \n",
       "3                                                 {}    8.0      1   \n",
       "4  {NEWERA BLACK: 35.0, NIKE SWOOSH DENIM: 35.0, ...   35.0    300   \n",
       "\n",
       "           category  cb_option  is_preferred  sold_count  item_creation_date  \\\n",
       "0  Mobile & Gadgets          0             0           0 2015-10-01 00:24:42   \n",
       "1  Mobile & Gadgets          0             0           0 2015-10-01 00:26:37   \n",
       "2  Mobile & Gadgets          0             0           0 2015-08-25 21:02:13   \n",
       "3  Mobile & Gadgets          0             0           0 2015-08-30 20:16:07   \n",
       "4   Women's Apparel          0             0           0 2016-05-09 01:14:34   \n",
       "\n",
       "   revenue 3var  \n",
       "0      0.0   no  \n",
       "1      0.0   no  \n",
       "2      0.0   no  \n",
       "3      0.0   no  \n",
       "4      0.0  yes  "
      ]
     },
     "execution_count": 79,
     "metadata": {},
     "output_type": "execute_result"
    }
   ],
   "source": [
    "# You can observe the new column 3var(iations) on the right.\n",
    "data.head(5)"
   ]
  },
  {
   "cell_type": "markdown",
   "metadata": {},
   "source": [
    "--- \n",
    "## 6.\tUse pandas function to identify duplicated listings within each shop (If listing A and B in shop S have the exactly same product title, product detailed description, and price, both listing A and B are considered as duplicated listings)"
   ]
  },
  {
   "cell_type": "markdown",
   "metadata": {},
   "source": [
    "#### a.\tMark those duplicated listings with True otherwise False and store the marking result in a new column named “is_duplicated”"
   ]
  },
  {
   "cell_type": "code",
   "execution_count": 80,
   "metadata": {},
   "outputs": [],
   "source": [
    "data['duplicated'] = data.duplicated(subset=['item_name','item_description','price'], keep=False)"
   ]
  },
  {
   "cell_type": "markdown",
   "metadata": {},
   "source": [
    "Breaking down the one line of code above"
   ]
  },
  {
   "cell_type": "code",
   "execution_count": 81,
   "metadata": {},
   "outputs": [
    {
     "data": {
      "text/plain": [
       "0    False\n",
       "1    False\n",
       "2    False\n",
       "3    False\n",
       "4    False\n",
       "5    False\n",
       "6    False\n",
       "7    False\n",
       "8    False\n",
       "9    False\n",
       "dtype: bool"
      ]
     },
     "execution_count": 81,
     "metadata": {},
     "output_type": "execute_result"
    }
   ],
   "source": [
    "# .duplicated() gives you back boolean values checking for duplicates within the dataframe. \n",
    "data.duplicated().head(10)"
   ]
  },
  {
   "cell_type": "code",
   "execution_count": 82,
   "metadata": {},
   "outputs": [
    {
     "data": {
      "text/plain": [
       "0    False\n",
       "1    False\n",
       "2    False\n",
       "3    False\n",
       "4    False\n",
       "5    False\n",
       "6    False\n",
       "7    False\n",
       "8    False\n",
       "9     True\n",
       "dtype: bool"
      ]
     },
     "execution_count": 82,
     "metadata": {},
     "output_type": "execute_result"
    }
   ],
   "source": [
    "# Since the instructions specifies that it's only a duplicate where 3 columns are concerned,\n",
    "# (1) product title, (2) product description, (3) Price I have to constrain the .duplicated method to these\n",
    "# 3 columns only. \n",
    "# you can see we have a True at row 10\n",
    "data.duplicated(subset=['item_name','item_description','price']).head(10)"
   ]
  },
  {
   "cell_type": "code",
   "execution_count": 83,
   "metadata": {},
   "outputs": [
    {
     "data": {
      "text/plain": [
       "0    False\n",
       "1    False\n",
       "2    False\n",
       "3    False\n",
       "4    False\n",
       "5    False\n",
       "6    False\n",
       "7    False\n",
       "8     True\n",
       "9     True\n",
       "dtype: bool"
      ]
     },
     "execution_count": 83,
     "metadata": {},
     "output_type": "execute_result"
    }
   ],
   "source": [
    "# The way .duplicated method works is to only specify True at the second occurence of the duplicate.\n",
    "# The first occurence is not marked as True\n",
    "# If you want all duplicates to be marked as True you have to specify the argument keep=False\n",
    "# As compared to the prior example you can see that row 8 returns True thus it's the first occurnece \n",
    "    # while row 9 is the second occurence. \n",
    "data.duplicated(subset=['item_name','item_description','price'], keep=False).head(10)"
   ]
  },
  {
   "cell_type": "code",
   "execution_count": 84,
   "metadata": {},
   "outputs": [],
   "source": [
    "# Since the instruction wants the answer in Boolean values I can attached the answer \n",
    "    # directly into a new pandas column\n",
    "data['duplicated'] = data.duplicated(subset=['item_name','item_description','price'], keep=False)"
   ]
  },
  {
   "cell_type": "code",
   "execution_count": 85,
   "metadata": {},
   "outputs": [
    {
     "data": {
      "text/html": [
       "<div>\n",
       "<style scoped>\n",
       "    .dataframe tbody tr th:only-of-type {\n",
       "        vertical-align: middle;\n",
       "    }\n",
       "\n",
       "    .dataframe tbody tr th {\n",
       "        vertical-align: top;\n",
       "    }\n",
       "\n",
       "    .dataframe thead th {\n",
       "        text-align: right;\n",
       "    }\n",
       "</style>\n",
       "<table border=\"1\" class=\"dataframe\">\n",
       "  <thead>\n",
       "    <tr style=\"text-align: right;\">\n",
       "      <th></th>\n",
       "      <th>itemid</th>\n",
       "      <th>shopid</th>\n",
       "      <th>item_name</th>\n",
       "      <th>item_description</th>\n",
       "      <th>item_variation</th>\n",
       "      <th>price</th>\n",
       "      <th>stock</th>\n",
       "      <th>category</th>\n",
       "      <th>cb_option</th>\n",
       "      <th>is_preferred</th>\n",
       "      <th>sold_count</th>\n",
       "      <th>item_creation_date</th>\n",
       "      <th>revenue</th>\n",
       "      <th>3var</th>\n",
       "      <th>duplicated</th>\n",
       "    </tr>\n",
       "  </thead>\n",
       "  <tbody>\n",
       "    <tr>\n",
       "      <th>0</th>\n",
       "      <td>1925574</td>\n",
       "      <td>210000</td>\n",
       "      <td>Golden mobile numbers</td>\n",
       "      <td>Unregistered prepaid cards1) 93355333  selling...</td>\n",
       "      <td>{}</td>\n",
       "      <td>400.0</td>\n",
       "      <td>1</td>\n",
       "      <td>Mobile &amp; Gadgets</td>\n",
       "      <td>0</td>\n",
       "      <td>0</td>\n",
       "      <td>0</td>\n",
       "      <td>2015-10-01 00:24:42</td>\n",
       "      <td>0.0</td>\n",
       "      <td>no</td>\n",
       "      <td>False</td>\n",
       "    </tr>\n",
       "    <tr>\n",
       "      <th>1</th>\n",
       "      <td>1925617</td>\n",
       "      <td>210000</td>\n",
       "      <td>Golden mobile numbers</td>\n",
       "      <td>Unregistered prepaid cards1) 93355888  selling...</td>\n",
       "      <td>{}</td>\n",
       "      <td>400.0</td>\n",
       "      <td>1</td>\n",
       "      <td>Mobile &amp; Gadgets</td>\n",
       "      <td>0</td>\n",
       "      <td>0</td>\n",
       "      <td>0</td>\n",
       "      <td>2015-10-01 00:26:37</td>\n",
       "      <td>0.0</td>\n",
       "      <td>no</td>\n",
       "      <td>False</td>\n",
       "    </tr>\n",
       "    <tr>\n",
       "      <th>2</th>\n",
       "      <td>943600</td>\n",
       "      <td>210000</td>\n",
       "      <td>Golden Mobile Numbers</td>\n",
       "      <td>Unregistered prepaid cards. Can port to post p...</td>\n",
       "      <td>{}</td>\n",
       "      <td>8.0</td>\n",
       "      <td>1</td>\n",
       "      <td>Mobile &amp; Gadgets</td>\n",
       "      <td>0</td>\n",
       "      <td>0</td>\n",
       "      <td>0</td>\n",
       "      <td>2015-08-25 21:02:13</td>\n",
       "      <td>0.0</td>\n",
       "      <td>no</td>\n",
       "      <td>False</td>\n",
       "    </tr>\n",
       "    <tr>\n",
       "      <th>3</th>\n",
       "      <td>1064405</td>\n",
       "      <td>210000</td>\n",
       "      <td>Golden Mobile Numbers</td>\n",
       "      <td>Unregistered prepaid cards. Can port to post p...</td>\n",
       "      <td>{}</td>\n",
       "      <td>8.0</td>\n",
       "      <td>1</td>\n",
       "      <td>Mobile &amp; Gadgets</td>\n",
       "      <td>0</td>\n",
       "      <td>0</td>\n",
       "      <td>0</td>\n",
       "      <td>2015-08-30 20:16:07</td>\n",
       "      <td>0.0</td>\n",
       "      <td>no</td>\n",
       "      <td>False</td>\n",
       "    </tr>\n",
       "    <tr>\n",
       "      <th>4</th>\n",
       "      <td>20046620</td>\n",
       "      <td>760000</td>\n",
       "      <td>101% AUTHENTIC BASEBALL CAPS</td>\n",
       "      <td>PREORDER Takes about 23 weeks to arrive, will ...</td>\n",
       "      <td>{NEWERA BLACK: 35.0, NIKE SWOOSH DENIM: 35.0, ...</td>\n",
       "      <td>35.0</td>\n",
       "      <td>300</td>\n",
       "      <td>Women's Apparel</td>\n",
       "      <td>0</td>\n",
       "      <td>0</td>\n",
       "      <td>0</td>\n",
       "      <td>2016-05-09 01:14:34</td>\n",
       "      <td>0.0</td>\n",
       "      <td>yes</td>\n",
       "      <td>False</td>\n",
       "    </tr>\n",
       "  </tbody>\n",
       "</table>\n",
       "</div>"
      ],
      "text/plain": [
       "     itemid  shopid                     item_name  \\\n",
       "0   1925574  210000         Golden mobile numbers   \n",
       "1   1925617  210000         Golden mobile numbers   \n",
       "2    943600  210000         Golden Mobile Numbers   \n",
       "3   1064405  210000         Golden Mobile Numbers   \n",
       "4  20046620  760000  101% AUTHENTIC BASEBALL CAPS   \n",
       "\n",
       "                                    item_description  \\\n",
       "0  Unregistered prepaid cards1) 93355333  selling...   \n",
       "1  Unregistered prepaid cards1) 93355888  selling...   \n",
       "2  Unregistered prepaid cards. Can port to post p...   \n",
       "3  Unregistered prepaid cards. Can port to post p...   \n",
       "4  PREORDER Takes about 23 weeks to arrive, will ...   \n",
       "\n",
       "                                      item_variation  price  stock  \\\n",
       "0                                                 {}  400.0      1   \n",
       "1                                                 {}  400.0      1   \n",
       "2                                                 {}    8.0      1   \n",
       "3                                                 {}    8.0      1   \n",
       "4  {NEWERA BLACK: 35.0, NIKE SWOOSH DENIM: 35.0, ...   35.0    300   \n",
       "\n",
       "           category  cb_option  is_preferred  sold_count  item_creation_date  \\\n",
       "0  Mobile & Gadgets          0             0           0 2015-10-01 00:24:42   \n",
       "1  Mobile & Gadgets          0             0           0 2015-10-01 00:26:37   \n",
       "2  Mobile & Gadgets          0             0           0 2015-08-25 21:02:13   \n",
       "3  Mobile & Gadgets          0             0           0 2015-08-30 20:16:07   \n",
       "4   Women's Apparel          0             0           0 2016-05-09 01:14:34   \n",
       "\n",
       "   revenue 3var  duplicated  \n",
       "0      0.0   no       False  \n",
       "1      0.0   no       False  \n",
       "2      0.0   no       False  \n",
       "3      0.0   no       False  \n",
       "4      0.0  yes       False  "
      ]
     },
     "execution_count": 85,
     "metadata": {},
     "output_type": "execute_result"
    }
   ],
   "source": [
    "# you can observe the duplicated column here\n",
    "data.head()"
   ]
  },
  {
   "cell_type": "markdown",
   "metadata": {},
   "source": [
    "#### b.\tFind duplicated listings that has less than 2 sold count and store the result in a new excel file named “duplicated_listings.xlsx”"
   ]
  },
  {
   "cell_type": "code",
   "execution_count": 86,
   "metadata": {},
   "outputs": [],
   "source": [
    "# getting only the duplicated rows\n",
    "duplicate = data[data['duplicated']]\n",
    "\n",
    "# storing only those duplicates which have below 2 sold counts\n",
    "duplicated_listings = duplicate[duplicate.sold_count < 2]"
   ]
  },
  {
   "cell_type": "markdown",
   "metadata": {},
   "source": [
    "Storing the result in an excel format. Don't want this to actually execute it takes up too much time.\n",
    "\n",
    "`duplicated_listings.to_excel('duplicated_listings.xlsx')`"
   ]
  },
  {
   "cell_type": "markdown",
   "metadata": {},
   "source": [
    "#### c.\tFind the preferred shop shopid that have the most number of duplicated listin"
   ]
  },
  {
   "cell_type": "code",
   "execution_count": 87,
   "metadata": {},
   "outputs": [
    {
     "data": {
      "text/plain": [
       "shopid\n",
       "43384791    2009\n",
       "6072241     1250\n",
       "26974701     635\n",
       "8090602      615\n",
       "37983742     436\n",
       "Name: duplicated, dtype: int64"
      ]
     },
     "execution_count": 87,
     "metadata": {},
     "output_type": "execute_result"
    }
   ],
   "source": [
    "# accessing the duplicated list and filtering only the preferred shops\n",
    "# Since shops ids are in focus group it\n",
    "# Do an aggregate count to get the sum of the duplicates per shop\n",
    "duplicate[duplicate.is_preferred == 1].groupby('shopid').duplicated.count().sort_values(ascending=False).head()"
   ]
  }
 ],
 "metadata": {
  "kernelspec": {
   "display_name": "Python 3",
   "language": "python",
   "name": "python3"
  },
  "language_info": {
   "codemirror_mode": {
    "name": "ipython",
    "version": 3
   },
   "file_extension": ".py",
   "mimetype": "text/x-python",
   "name": "python",
   "nbconvert_exporter": "python",
   "pygments_lexer": "ipython3",
   "version": "3.6.6"
  }
 },
 "nbformat": 4,
 "nbformat_minor": 2
}
