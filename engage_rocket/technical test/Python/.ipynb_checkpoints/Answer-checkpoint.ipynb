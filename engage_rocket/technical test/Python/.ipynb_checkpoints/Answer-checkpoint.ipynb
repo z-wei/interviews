{
 "cells": [
  {
   "cell_type": "markdown",
   "metadata": {},
   "source": [
    "2) assume your result set contains one row per user, and each users’ question category plus their average reported score for that category. Write a python script to show how you would test for correlation between the categories ‘acc’ and ‘nps’. \n",
    "\n",
    "You can assume:\n",
    "•\tthere are a total of 8 categories\n",
    "•\tSome users may have NA responses to certain categories, which should not be included.\n"
   ]
  },
  {
   "cell_type": "markdown",
   "metadata": {},
   "source": [
    "# TABLE"
   ]
  },
  {
   "cell_type": "markdown",
   "metadata": {},
   "source": [
    "<img src=\"dataschema.png\">"
   ]
  },
  {
   "cell_type": "markdown",
   "metadata": {},
   "source": [
    "# ANSWER"
   ]
  },
  {
   "cell_type": "code",
   "execution_count": null,
   "metadata": {},
   "outputs": [],
   "source": [
    "import pandas as pd\n",
    "import matplotlib.pyplot as plt\n",
    "import seaborn as sns\n",
    "\n",
    "h1 = pd.read_csv('data.csv')\n",
    "h2 = h1[['Question Category', 'Average Score']]\n",
    "acc = h2[h2['Question Category'] == 'acc']['Average Score'].reset_index(drop=True)\n",
    "nps = h2[h2['Question Category'] == 'nps']['Average Score'].reset_index(drop=True) # drop=True to drop the original index "
   ]
  },
  {
   "cell_type": "code",
   "execution_count": null,
   "metadata": {},
   "outputs": [],
   "source": [
    "acc_ups = pd.DataFrame([ups,acc], index=['ups', 'acc']).T\n",
    "acc_ups.corr()"
   ]
  },
  {
   "cell_type": "code",
   "execution_count": null,
   "metadata": {
    "scrolled": true
   },
   "outputs": [],
   "source": [
    "plt.scatter(acc[:equal_num_rows(ups,acc)], ups)\n",
    "sns.regplot(x='acc',y='ups',data=acc_ups)"
   ]
  }
 ],
 "metadata": {
  "kernelspec": {
   "display_name": "Python 3",
   "language": "python",
   "name": "python3"
  },
  "language_info": {
   "codemirror_mode": {
    "name": "ipython",
    "version": 3
   },
   "file_extension": ".py",
   "mimetype": "text/x-python",
   "name": "python",
   "nbconvert_exporter": "python",
   "pygments_lexer": "ipython3",
   "version": "3.6.5"
  }
 },
 "nbformat": 4,
 "nbformat_minor": 2
}
