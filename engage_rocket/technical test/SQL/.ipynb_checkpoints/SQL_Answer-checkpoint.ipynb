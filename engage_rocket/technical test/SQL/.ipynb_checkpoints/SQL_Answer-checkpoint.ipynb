{
 "cells": [
  {
   "cell_type": "markdown",
   "metadata": {},
   "source": [
    "1. Imagine you have two tables: \"Users\" and \"Responses\". You want to extract the latest 5000 responses for all users, split by question category. Write out an SQL query to extract this data. \n",
    "\n",
    "You can assume:\n",
    "•\t‘id_user' is found in both tables\n",
    "•\tthere is a 'ds_response' date field in scores\n"
   ]
  },
  {
   "cell_type": "markdown",
   "metadata": {},
   "source": [
    "# THE DATA BASE SCHEMA - (Assuming there are two tables as said)"
   ]
  },
  {
   "cell_type": "markdown",
   "metadata": {},
   "source": [
    "<img src='data base schema.png'>"
   ]
  },
  {
   "cell_type": "markdown",
   "metadata": {},
   "source": [
    "#### Latest 5’000 responses split by “Question_Cateogry”#### "
   ]
  },
  {
   "cell_type": "code",
   "execution_count": null,
   "metadata": {},
   "outputs": [],
   "source": [
    "SELECT \"Question_Category\", COUNT(*)\n",
    "FROM (SELECT * FROM Responses ORDER BY \"Response_Date\" DESC LIMIT 5000)\n",
    "GROUP BY \"Question_Category\""
   ]
  },
  {
   "cell_type": "markdown",
   "metadata": {},
   "source": [
    "#### Latest 5’000 responses with “Name” and “Question_Category”"
   ]
  },
  {
   "cell_type": "code",
   "execution_count": null,
   "metadata": {},
   "outputs": [],
   "source": [
    "SELECT \"Name\", \"Response\", \"Question_Category\"\n",
    "FROM Users RIGHT JOIN (SELECT * FROM Responses ORDER BY \"Response_Date\" DESC LIMIT 5000) LATEST\n",
    "ON Users.Id_user = LATEST.Id_user"
   ]
  }
 ],
 "metadata": {
  "kernelspec": {
   "display_name": "Python 3",
   "language": "python",
   "name": "python3"
  },
  "language_info": {
   "codemirror_mode": {
    "name": "ipython",
    "version": 3
   },
   "file_extension": ".py",
   "mimetype": "text/x-python",
   "name": "python",
   "nbconvert_exporter": "python",
   "pygments_lexer": "ipython3",
   "version": "3.6.5"
  }
 },
 "nbformat": 4,
 "nbformat_minor": 2
}
